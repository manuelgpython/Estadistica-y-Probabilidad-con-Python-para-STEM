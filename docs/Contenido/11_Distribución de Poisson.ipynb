{
 "cells": [
  {
   "cell_type": "markdown",
   "id": "538ab7f0",
   "metadata": {},
   "source": [
    "# DISTRIBUCIÓN DE POISSON"
   ]
  },
  {
   "cell_type": "code",
   "execution_count": null,
   "id": "e277e44d",
   "metadata": {},
   "outputs": [],
   "source": [
    "# Importamos las librerías\n",
    "import numpy as np\n",
    "from scipy.stats import poisson\n",
    "import matplotlib.pyplot as plt\n",
    "\n",
    "\"\"\" Definimos una función para dibujar la distribución de Poisson:\n",
    "        argumentos : \n",
    "            lambda_: Parámetro\n",
    "            text_ : Título del ejemplo\n",
    "        devuelve:\n",
    "            gráfico con la distribución de Poisson de parámetro\n",
    "            lambda y el título del ejemplo \n",
    "\"\"\"\n",
    "\n",
    "\n",
    "def plot_poisson(lambda_, text_):\n",
    "    # Generar valores discretos para k\n",
    "    k = np.arange(0, lambda_ * 3)\n",
    "\n",
    "    # Calculamos las probabilidades con la pmf de scipy\n",
    "    probability = poisson.pmf(k, lambda_)\n",
    "\n",
    "    # Gráfico\n",
    "    plt.figure(figsize=(10, 6))\n",
    "    plt.bar(k, probability, alpha=0.8, color=\"blue\", label=f\"$\\lambda$ = {lambda_}\")\n",
    "    plt.title(text_)\n",
    "    plt.xlabel(\"Número de veces que ocurre el suceso\")\n",
    "    plt.ylabel(\"Probabilidad de que ocurra\")\n",
    "    plt.legend()\n",
    "    return plt.show"
   ]
  },
  {
   "cell_type": "markdown",
   "id": "e5356ad1",
   "metadata": {},
   "source": [
    "### Microbiología"
   ]
  },
  {
   "cell_type": "code",
   "execution_count": null,
   "id": "bd702bd6",
   "metadata": {},
   "outputs": [],
   "source": [
    "plot_poisson(3, \"Colonias por cuadrante\")"
   ]
  },
  {
   "cell_type": "code",
   "execution_count": null,
   "id": "dbca7dfc",
   "metadata": {},
   "outputs": [],
   "source": [
    "# La probabilidad pedida es\n",
    "print(f\"La probabilidad de 3 colonias por cuadrante es {poisson.pmf(3,5):.4f}\")"
   ]
  },
  {
   "cell_type": "markdown",
   "id": "f4af21b7",
   "metadata": {},
   "source": [
    "### Desintegración radioactiva"
   ]
  },
  {
   "cell_type": "code",
   "execution_count": null,
   "id": "e10c47f0",
   "metadata": {},
   "outputs": [],
   "source": [
    "plot_poisson(7, \"Partículas por minuto\")"
   ]
  },
  {
   "cell_type": "code",
   "execution_count": null,
   "id": "03f64606",
   "metadata": {},
   "outputs": [],
   "source": [
    "# Calculamos la probabilidad\n",
    "prob_plus_9 = 1 - poisson.cdf(9, 7)\n",
    "print(f\"La probabilidad de más de 9 partículas es {prob_plus_9:.4f}\")"
   ]
  },
  {
   "cell_type": "code",
   "execution_count": null,
   "id": "308c864c",
   "metadata": {},
   "outputs": [],
   "source": [
    "lambda_ = 7\n",
    "k = np.arange(0, 21)\n",
    "\n",
    "# Separamos los array k y probability\n",
    "k_blue = k[k <= 9]\n",
    "probability_blue = poisson.pmf(k_blue, lambda_)\n",
    "k_red = k[k > 9]\n",
    "probability_red = poisson.pmf(k_red, lambda_)\n",
    "\n",
    "# Gráfico\n",
    "plt.figure(figsize=(10, 6))\n",
    "plt.bar(k_blue, probability_blue, alpha=0.8, color=\"blue\", label=f\"$X\\leq 9$\")\n",
    "plt.bar(k_red, probability_red, alpha=0.8, color=\"red\", label=f\"$X>9$\")\n",
    "plt.title(\"Probabilidad de más de 9 partículas\")\n",
    "plt.xlabel(\"Número de veces que ocurre el suceso\")\n",
    "plt.ylabel(\"Probabilidad de que ocurra\")\n",
    "plt.legend()\n",
    "plt.show"
   ]
  },
  {
   "cell_type": "markdown",
   "id": "f676e27d",
   "metadata": {},
   "source": [
    "### Simulación de llegadas a una cola"
   ]
  },
  {
   "cell_type": "code",
   "execution_count": null,
   "id": "a9d99f98",
   "metadata": {},
   "outputs": [],
   "source": [
    "import numpy as np\n",
    "import matplotlib.pyplot as plt\n",
    "\n",
    "# Fijamos la semilla para garantizar reproducibilidad\n",
    "np.random.seed(89876)\n",
    "\n",
    "# Parámetros de la simulación\n",
    "lambda_ = 8  # Tasa media de llegada (clientes/minuto)\n",
    "time_interval = 60  # Duración de la simulación en minutos\n",
    "\n",
    "# Generación de datos aleatorios según Poisson\n",
    "clients_per_minute = np.random.poisson(lambda_, time_interval)\n",
    "\n",
    "# Resultados de la simulación\n",
    "print(\"Simulación de llegadas de clientes a las cajas (clientes/minuto):\")\n",
    "print(clients_per_minute)\n",
    "\n",
    "# Visualización\n",
    "plt.figure(figsize=(18, 8))\n",
    "plt.bar(\n",
    "    range(1, time_interval + 1), clients_per_minute, color=\"blue\", edgecolor=\"black\"\n",
    ")\n",
    "# Línea vertical para la media teórica\n",
    "plt.axhline(\n",
    "    y=lambda_,\n",
    "    color=\"red\",\n",
    "    linestyle=\"--\",\n",
    "    label=f\"Media esperada ({lambda_} clientes/minuto)\",\n",
    ")\n",
    "plt.title(\"Simulación de llegadas de clientes a las cajas del supermercado\")\n",
    "plt.xlabel(\"Minuto\")\n",
    "plt.ylabel(\"Número de clientes\")\n",
    "plt.legend()\n",
    "plt.grid(axis=\"y\", linestyle=\"--\", alpha=0.7)\n",
    "plt.show()\n",
    "\n",
    "# Estadísticas de la simulación\n",
    "print(\"\\nEstadísticas de la simulación:\")\n",
    "print(f\"\\tClientes totales en {time_interval} minutos: {np.sum(clients_per_minute)}\")\n",
    "print(f\"\\tMedia de la simulación: {np.mean(clients_per_minute):.2f} clientes/minuto\")\n",
    "print(\n",
    "    f\"\\tDesviación estándar de la simulación: {np.std(clients_per_minute):.2f} clientes/minuto\"\n",
    ")"
   ]
  },
  {
   "cell_type": "markdown",
   "id": "f99f2b51",
   "metadata": {},
   "source": [
    "### Simulación de defectos en una luna de espejo"
   ]
  },
  {
   "cell_type": "code",
   "execution_count": null,
   "id": "3ebfb04f",
   "metadata": {},
   "outputs": [],
   "source": [
    "import numpy as np\n",
    "import matplotlib.pyplot as plt\n",
    "\n",
    "# Fijamos la semilla para garantizar reproducibilidad\n",
    "np.random.seed(146554)\n",
    "\n",
    "# Parámetros de la simulación\n",
    "lambda_ = 4  # Defectos por metro cuadrado\n",
    "size_area = 9  # Superficie de la luna\n",
    "number_grids = size_area  # Número de cuadrículas\n",
    "\n",
    "# Generación de datos aleatorios según Poisson\n",
    "defects_per_grid = np.random.poisson(lambda_, number_grids)\n",
    "\n",
    "# Resultados de la simulación\n",
    "print(\"Simulación de defectos por cuadrícula:\")\n",
    "print(defects_per_grid)\n",
    "\n",
    "# Visualización\n",
    "plt.figure(figsize=(18, 8))\n",
    "plt.bar(range(1, number_grids + 1), defects_per_grid, color=\"green\", edgecolor=\"yellow\")\n",
    "# Línea horizontal para la media teórica\n",
    "plt.axhline(\n",
    "    y=lambda_,\n",
    "    color=\"red\",\n",
    "    linestyle=\"--\",\n",
    "    label=f\"Media esperada ({lambda_} defectos/cuadrícula)\",\n",
    ")\n",
    "plt.title(\"Simulación de defectos en la luna\")\n",
    "plt.xlabel(\"Cuadrícula (1 $m^2$)\")\n",
    "plt.ylabel(\"Número de defectos\")\n",
    "plt.legend()\n",
    "plt.show()\n",
    "\n",
    "# Estadísticas de la simulación\n",
    "print(\"\\nEstadísticas de la simulación:\")\n",
    "print(f\"\\tDefectos totales en la luna: {np.sum(defects_per_grid)}\")\n",
    "print(\n",
    "    f\"\\tMedia de defectos por cuadrícula: {np.mean(defects_per_grid):.2f} defectos/m^2\"\n",
    ")\n",
    "print(\n",
    "    f\"\\tDesviación estándar de la simulación: {np.std(defects_per_grid):.2f} defectos/m^2\"\n",
    ")"
   ]
  }
 ],
 "metadata": {
  "kernelspec": {
   "display_name": "Python 3 (ipykernel)",
   "language": "python",
   "name": "python3"
  },
  "language_info": {
   "codemirror_mode": {
    "name": "ipython",
    "version": 3
   },
   "file_extension": ".py",
   "mimetype": "text/x-python",
   "name": "python",
   "nbconvert_exporter": "python",
   "pygments_lexer": "ipython3",
   "version": "3.10.13"
  }
 },
 "nbformat": 4,
 "nbformat_minor": 5
}
