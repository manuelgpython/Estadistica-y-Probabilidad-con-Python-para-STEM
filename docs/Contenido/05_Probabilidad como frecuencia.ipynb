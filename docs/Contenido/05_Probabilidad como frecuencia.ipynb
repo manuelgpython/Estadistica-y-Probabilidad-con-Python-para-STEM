{
 "cells": [
  {
   "cell_type": "markdown",
   "id": "fca96c8c-f8cc-44e4-9e45-39e29cd52d73",
   "metadata": {},
   "source": [
    "# 5_PROBABILIDAD COMO FRECUENCIA\n"
   ]
  },
  {
   "cell_type": "markdown",
   "id": "4d4ab087-f04e-450a-8710-0b8d9480656d",
   "metadata": {},
   "source": [
    "### Lanzamiento de una moneda equilibrada"
   ]
  },
  {
   "cell_type": "code",
   "execution_count": null,
   "id": "6b2b3d3a-1c74-4b3b-8e60-72858a219e48",
   "metadata": {},
   "outputs": [],
   "source": [
    "# Importamos las librerías\n",
    "import random\n",
    "import matplotlib.pyplot as plt"
   ]
  },
  {
   "cell_type": "code",
   "execution_count": null,
   "id": "1b2e8e3a-4da5-44f1-9767-a836120c3ff7",
   "metadata": {},
   "outputs": [],
   "source": [
    "\"\"\"Definimos una función que simule n lanzamientos\n",
    "de la moneda y devuelva la frecuencia relativa de caras\"\"\"\n",
    "\n",
    "\n",
    "def lanza_moneda(n):\n",
    "    caras = 0\n",
    "    for _ in range(n):\n",
    "        if random.random() < 0.5:  # Simula un lanzamiento\n",
    "            caras += 1\n",
    "    return caras / n\n",
    "\n",
    "\n",
    "# Simulamos ahora 100 repeticiones de 1000 lanzamientos cada una\n",
    "n_simula = 100\n",
    "frecuencias_caras = []\n",
    "n_lanzamientos = 1000\n",
    "for _ in range(n_lanzamientos):\n",
    "    frecuencias_caras.append(lanza_moneda(n_simula))\n",
    "\n",
    "# Graficamos\n",
    "plt.hist(frecuencias_caras, bins=20)\n",
    "plt.xlabel(\"Frecuencia de caras\")\n",
    "plt.ylabel(\"Número de simulaciones\")\n",
    "plt.title(f\"Distribución de la frecuencia de caras en {n_lanzamientos} lanzamientos\")\n",
    "plt.show()"
   ]
  },
  {
   "cell_type": "markdown",
   "id": "2a09ef82-b47e-4a7e-9681-2935f5ebddee",
   "metadata": {},
   "source": [
    "### Lanzamiento de un dado normal"
   ]
  },
  {
   "cell_type": "code",
   "execution_count": null,
   "id": "30c1656f-d4ec-4105-b55d-961e8a8a1fb0",
   "metadata": {},
   "outputs": [],
   "source": [
    "# Importamos las librerías\n",
    "import random\n",
    "import matplotlib.pyplot as plt\n",
    "\n",
    "\"\"\"Función que simula n lanzamientos de un dado y devuelve un diccionario\n",
    "con las frecuencias relativas de cada cara\"\"\"\n",
    "\n",
    "\n",
    "def tira_dado(n):\n",
    "    resultados = {}\n",
    "    for _ in range(n):\n",
    "        resultado = random.randint(1, 6)  # Genera una cara del dado\n",
    "        resultados[resultado] = (\n",
    "            resultados.get(resultado, 0) + 1\n",
    "        )  # Añade a la value de la key resultado una unidad\n",
    "    for resultado in resultados.keys():\n",
    "        resultados[resultado] /= n  # Calcula la frecuencia relativa\n",
    "    return resultados  # Devuelve un diccionario donde las keys son las caras y los values las frecuencias\n",
    "\n",
    "\n",
    "# Simulamos 1000000 de lanzamientos\n",
    "n_tiradas = 1000000\n",
    "frecuencias = tira_dado(n_tiradas)\n",
    "print(\"El diccionario con las caras y las frecuencias:\")\n",
    "print(frecuencias)"
   ]
  },
  {
   "cell_type": "code",
   "execution_count": null,
   "id": "ab45f4ec-74b3-4940-a682-094793c5fa16",
   "metadata": {},
   "outputs": [],
   "source": [
    "# La gráfica\n",
    "plt.bar(frecuencias.keys(), frecuencias.values())\n",
    "plt.xlabel(\"Cara del dado\")\n",
    "plt.ylabel(\"Frecuencia relativa\")\n",
    "plt.title(f\"Distribución de resultados en {n_tiradas} de lanzamientos de un dado\")\n",
    "plt.show"
   ]
  },
  {
   "cell_type": "markdown",
   "id": "0a07aee8-0c3f-47d0-88ff-689dbbd422e7",
   "metadata": {},
   "source": [
    "### Extracción de bolas de una urna"
   ]
  },
  {
   "cell_type": "code",
   "execution_count": null,
   "id": "183d7c0e-9563-4a2c-9e82-29cd95b95793",
   "metadata": {},
   "outputs": [],
   "source": [
    "# Importamos las librerías\n",
    "import random\n",
    "import matplotlib.pyplot as plt\n",
    "\n",
    "\"\"\"En la siguiente función, se simulan n extracciones con reemplazamiento y \n",
    "devuelve las frecuencias relativas de cada color.\"\"\"\n",
    "\n",
    "\n",
    "def extrae_bola(n, colores, pesos):\n",
    "    resultados = {\n",
    "        color: 0 for color in colores\n",
    "    }  # Inicializamos el diccionario con los colores como claves\n",
    "    for _ in range(n):\n",
    "        color_extraido = random.choices(colores, weights=pesos)[0]\n",
    "        resultados[color_extraido] += 1\n",
    "    for color in resultados.keys():\n",
    "        resultados[color] /= n\n",
    "    return resultados\n",
    "\n",
    "\n",
    "# Simulamos ahora 500 extracciones de la urna con devolución\n",
    "colores = [\"roja\", \"blanca\", \"negra\"]\n",
    "pesos = [5, 3, 2]\n",
    "n_extracciones = 500\n",
    "frecuencias = extrae_bola(n_extracciones, colores, pesos)\n",
    "print(frecuencias)"
   ]
  },
  {
   "cell_type": "code",
   "execution_count": null,
   "id": "836b508d-7659-4931-807b-dd07dd2438c8",
   "metadata": {},
   "outputs": [],
   "source": [
    "# Graficamos\n",
    "plt.bar(frecuencias.keys(), frecuencias.values())\n",
    "plt.xlabel(\"Color de la bola\")\n",
    "plt.ylabel(\"Frecuencia relativa\")\n",
    "plt.title(f\"Distribución de colores en {n_extracciones} extracciones\")\n",
    "plt.show()"
   ]
  }
 ],
 "metadata": {
  "kernelspec": {
   "display_name": "Python 3 (ipykernel)",
   "language": "python",
   "name": "python3"
  },
  "language_info": {
   "codemirror_mode": {
    "name": "ipython",
    "version": 3
   },
   "file_extension": ".py",
   "mimetype": "text/x-python",
   "name": "python",
   "nbconvert_exporter": "python",
   "pygments_lexer": "ipython3",
   "version": "3.10.13"
  }
 },
 "nbformat": 4,
 "nbformat_minor": 5
}
