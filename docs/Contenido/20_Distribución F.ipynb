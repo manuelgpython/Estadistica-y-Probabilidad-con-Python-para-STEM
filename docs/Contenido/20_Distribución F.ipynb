{
 "cells": [
  {
   "cell_type": "markdown",
   "id": "72f1ba89-4f03-4ba9-b220-96234393f186",
   "metadata": {},
   "source": [
    "# 20_DISTRIBUCIÓN F DE FISHER-SNEDECOR"
   ]
  },
  {
   "cell_type": "code",
   "execution_count": null,
   "id": "62775e3f-390f-4bdb-9611-cd6ed1072d96",
   "metadata": {},
   "outputs": [],
   "source": [
    "# Importamos las librerías\n",
    "import numpy as np\n",
    "import matplotlib.pyplot as plt\n",
    "from scipy.stats import f\n",
    "\n",
    "# Grados de libertad\n",
    "df_f_numerator = [5, 10, 12]\n",
    "df_f_denominator = [5, 5, 10]\n",
    "\n",
    "# Visualización\n",
    "x_f = np.linspace(0, 5, 1000)\n",
    "plt.figure(figsize=(12, 6))\n",
    "for df1, df2 in zip(df_f_numerator, df_f_denominator):\n",
    "    plt.plot(x_f, f.pdf(x_f, df1, df2), label=f\"Grados de libertad = ({df1},{df2})\")\n",
    "plt.title(\"Distribuciones F de Fisher-Snedecor\")\n",
    "plt.legend()\n",
    "plt.show()"
   ]
  },
  {
   "cell_type": "code",
   "execution_count": null,
   "id": "40166f42-ac0d-4a0e-b50d-ec9ecbaf07bc",
   "metadata": {},
   "outputs": [],
   "source": [
    "import numpy as np\n",
    "import matplotlib.pyplot as plt\n",
    "from scipy.stats import f\n",
    "\n",
    "# Parámetros\n",
    "df1 = 12  # Grados de libertad del numerador (Grupo 1)\n",
    "df2 = 10  # Grados de libertad del denominador (Grupo 2)\n",
    "f_value = 2.5  # Valor de F para el cual se calcula la probabilidad acumulada\n",
    "\n",
    "# Crear un rango de valores para el eje X\n",
    "x = np.linspace(0, 5, 1000)  # Desde 0 hasta 5 para cubrir la distribución F\n",
    "\n",
    "# Calcular la PDF y la CDF\n",
    "pdf_values = f.pdf(x, df1, df2)  # Función de densidad de probabilidad\n",
    "cdf_values = f.cdf(x, df1, df2)  # Función de distribución acumulada\n",
    "\n",
    "# Calcular la probabilidad acumulada para el valor específico f_value\n",
    "prob_f = f.cdf(f_value, df1, df2)\n",
    "\n",
    "# Crear la figura y los subgráficos (1 fila, 2 columnas)\n",
    "fig, (ax1, ax2) = plt.subplots(1, 2, figsize=(14, 6))\n",
    "\n",
    "# --- Subgráfico 1: PDF ---\n",
    "ax1.plot(x, pdf_values, label=f\"PDF (F, gl1 = {df1}, gl2 = {df2})\", color=\"blue\")\n",
    "ax1.fill_between(\n",
    "    x,\n",
    "    pdf_values,\n",
    "    where=(x <= f_value),\n",
    "    color=\"lightblue\",\n",
    "    alpha=0.5,\n",
    "    label=f\"P(F  $\\leq$ {f_value}) = {prob_f:.4f}\",\n",
    ")\n",
    "ax1.axvline(f_value, color=\"green\", linestyle=\"--\", label=f\"F = {f_value}\")\n",
    "ax1.set_title(\"Función de Densidad de Probabilidad (PDF)\")\n",
    "ax1.set_xlabel(\"Valor de F\")\n",
    "ax1.set_ylabel(\"Densidad\")\n",
    "ax1.legend()\n",
    "ax1.grid(True)\n",
    "\n",
    "# --- Subgráfico 2: CDF ---\n",
    "ax2.plot(x, cdf_values, label=f\"CDF (F, gl1 = {df1}, gl2 = {df2})\", color=\"red\")\n",
    "ax2.axvline(f_value, color=\"green\", linestyle=\"--\", label=f\"F = {f_value}\")\n",
    "ax2.axhline(\n",
    "    prob_f,\n",
    "    color=\"orange\",\n",
    "    linestyle=\"--\",\n",
    "    label=f\"P(F $\\leq$ {f_value}) = {prob_f:.4f}\",\n",
    ")\n",
    "ax2.set_title(\"Función de Distribución Acumulada (CDF)\")\n",
    "ax2.set_xlabel(\"Valor de F\")\n",
    "ax2.set_ylabel(\"Probabilidad Acumulada\")\n",
    "ax2.legend()\n",
    "\n",
    "# Ajustar el espacio entre subgráficos\n",
    "plt.tight_layout()\n",
    "\n",
    "# Mostrar la figura\n",
    "plt.show()"
   ]
  }
 ],
 "metadata": {
  "kernelspec": {
   "display_name": "Python 3 (ipykernel)",
   "language": "python",
   "name": "python3"
  },
  "language_info": {
   "codemirror_mode": {
    "name": "ipython",
    "version": 3
   },
   "file_extension": ".py",
   "mimetype": "text/x-python",
   "name": "python",
   "nbconvert_exporter": "python",
   "pygments_lexer": "ipython3",
   "version": "3.10.13"
  }
 },
 "nbformat": 4,
 "nbformat_minor": 5
}
