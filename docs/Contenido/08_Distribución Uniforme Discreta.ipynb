{
 "cells": [
  {
   "cell_type": "markdown",
   "id": "c40799cc-8cd6-479d-8a8a-1b26985058ec",
   "metadata": {},
   "source": [
    "# DISTRIBUCIÓN UNIFORME DISCRETA\n",
    "\n",
    "### Selección aleatoria de un material"
   ]
  },
  {
   "cell_type": "code",
   "execution_count": null,
   "id": "7e493f34-b30c-4edb-8682-a8a53ebe35ff",
   "metadata": {},
   "outputs": [],
   "source": [
    "import random\n",
    "\n",
    "# Lista de metales\n",
    "metal = [\"acero\", \"aluminio\", \"cobre\", \"titanio\", \"magnesio\"]\n",
    "\n",
    "\"\"\" Selección aleatoria de un metal. Cada vez que ejecutamos el script\n",
    "    seleccionará un metal diferente (o el mismo) \"\"\"\n",
    "selected_metal = random.choice(metal)\n",
    "print(f\"El metal elegido esta vez es {selected_metal}.\")"
   ]
  },
  {
   "cell_type": "markdown",
   "id": "5a4be818-adb0-4ab6-931e-e561031a31f4",
   "metadata": {},
   "source": [
    "### Calculadora de claves"
   ]
  },
  {
   "cell_type": "code",
   "execution_count": null,
   "id": "6f82def4-2fc2-4356-af41-3dfcb6cc6149",
   "metadata": {},
   "outputs": [],
   "source": [
    "# Importamos librerías y funciones\n",
    "import numpy as np\n",
    "\n",
    "# Construimos las letras que pueden entrar en la clave\n",
    "letter = [\"A\", \"B\", \"C\", \"D\", \"E\", \"F\", \"G\", \"H\"]\n",
    "\n",
    "# Elegimos 5 letras siguiendo la uniforme discreta\n",
    "results = np.random.choice(letter, 5)\n",
    "\n",
    "# Construimos la clave y la presentamos\n",
    "key = results[0] + results[1] + results[2] + results[3] + results[4]\n",
    "print(f\"La clave es {key}\")"
   ]
  },
  {
   "cell_type": "markdown",
   "id": "9870ea08-4a0d-4d32-add4-7e5446cf3f04",
   "metadata": {},
   "source": [
    "### Simulación del balanceo de carga"
   ]
  },
  {
   "cell_type": "code",
   "execution_count": null,
   "id": "32ec1031-ae34-48e4-8007-567bd1a6190e",
   "metadata": {},
   "outputs": [],
   "source": [
    "# Importamos las librerias y funciones específicas\n",
    "import numpy as np\n",
    "import networkx as nx  # Librería para graficar la red\n",
    "import matplotlib.pyplot as plt\n",
    "from collections import Counter\n",
    "\n",
    "# Fijamos la semilla\n",
    "np.random.seed(8998)\n",
    "\n",
    "# Creamos el gráfico de red\n",
    "G_net = nx.Graph()  # Crearmos el objeto gráfico \"red\"\n",
    "nodes = [\"A\", \"B\", \"C\", \"D\"]  # Nodos (servidores) de la red\n",
    "G_net.add_nodes_from(nodes)  # Añade los nodos al objeto gráfico \"red\"\n",
    "G_net.add_edges_from(\n",
    "    [(\"A\", \"B\"), (\"B\", \"C\"), (\"C\", \"D\"), (\"D\", \"A\"), (\"B\", \"D\")]\n",
    ")  # Añade las relaciones entre los servidores\n",
    "\n",
    "# Simulamos 1000 peticiones a los servidores distribuidos uniformemente\n",
    "number_requests = 1000\n",
    "routes = np.random.choice(\n",
    "    nodes, number_requests\n",
    ")  # Simulación de carga de trabajo en cada servidor\n",
    "total_work = Counter(\n",
    "    routes\n",
    ")  # Diccionario donde las claves son los nodos y los valores las peticiones recibidas\n",
    "\n",
    "# Calculamos estadísticas\n",
    "node_work = [total_work[node] for node in nodes]\n",
    "std_swing = np.std(node_work)\n",
    "\n",
    "# Visualizar red\n",
    "plt.figure(figsize=(5, 4))\n",
    "pos = nx.spring_layout(G_net)\n",
    "\n",
    "# Corrección del tamaño de los nodos basado en el trabajo que recibe cada servidor\n",
    "node_sizes = [total_work[node] * 10 for node in nodes]\n",
    "\n",
    "# Configuración del gráfico de red\n",
    "nx.draw(\n",
    "    G_net,\n",
    "    pos,\n",
    "    with_labels=True,\n",
    "    node_color=\"lightblue\",\n",
    "    node_size=node_sizes,\n",
    "    font_weight=\"bold\",\n",
    ")\n",
    "\n",
    "plt.title(\"Distribución de carga en la red\")\n",
    "plt.show()\n",
    "\n",
    "# Imprimir información\n",
    "print(\"Distribución de trabajo por nodo:\")\n",
    "for node in nodes:\n",
    "    print(f\"\\tNodo {node}: {total_work[node]} peticiones\")\n",
    "print(f\"\\nDesviación estándar de la carga: {std_swing:.2f}\")"
   ]
  }
 ],
 "metadata": {
  "kernelspec": {
   "display_name": "Python 3 (ipykernel)",
   "language": "python",
   "name": "python3"
  },
  "language_info": {
   "codemirror_mode": {
    "name": "ipython",
    "version": 3
   },
   "file_extension": ".py",
   "mimetype": "text/x-python",
   "name": "python",
   "nbconvert_exporter": "python",
   "pygments_lexer": "ipython3",
   "version": "3.10.13"
  }
 },
 "nbformat": 4,
 "nbformat_minor": 5
}
