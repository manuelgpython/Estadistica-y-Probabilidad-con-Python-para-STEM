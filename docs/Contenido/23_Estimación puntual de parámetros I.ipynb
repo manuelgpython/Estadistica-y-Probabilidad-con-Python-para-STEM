{
 "cells": [
  {
   "cell_type": "markdown",
   "id": "393a7ba9-0db3-41f1-838a-30439ce3b511",
   "metadata": {},
   "source": [
    "# 23_INFERENCIA ESTADÍSTICA: ESTIMACIÓN PUNTUAL DE PARÁMETROS (I)"
   ]
  },
  {
   "cell_type": "code",
   "execution_count": null,
   "id": "67c49fb6-dc11-4537-b895-21de97609a55",
   "metadata": {},
   "outputs": [],
   "source": [
    "# Importamos las libreriás\n",
    "import numpy as np\n",
    "import pandas as pd"
   ]
  },
  {
   "cell_type": "code",
   "execution_count": null,
   "id": "01123756-b3f5-4581-91df-0bd627f7edc2",
   "metadata": {},
   "outputs": [],
   "source": [
    "# Fijamos la semilla aleatoria, para asegurar reproducibilidad\n",
    "np.random.seed(567)\n",
    "\n",
    "# Creamos la población de 1000 individuos N(170,10)\n",
    "population = np.random.normal(loc=170, scale=10, size=1000)\n",
    "population_pd = pd.Series(\n",
    "    population\n",
    ")  # Creamos una serie de Pandas para visualizar los datos\n",
    "population_pd.head()  # Veamos los 5 primeros valores de la serie de alturas"
   ]
  },
  {
   "cell_type": "code",
   "execution_count": null,
   "id": "00cc023e-9554-4790-ada3-4a36cf453479",
   "metadata": {},
   "outputs": [],
   "source": [
    "\"\"\"Calculamos los parámetros poblacionales. Éstos son los valores de partida,\n",
    "desconocidos para el investigador\"\"\"\n",
    "\n",
    "mean_mu = np.mean(population)\n",
    "std_sigma = np.std(population)\n",
    "print(f\"Media poblacional = {mean_mu:.2f}\")\n",
    "print(f\"Desviación típica poblacional = {std_sigma:.2f}\")"
   ]
  },
  {
   "cell_type": "code",
   "execution_count": null,
   "id": "6ff48cbf-d1ce-4ff6-ac1b-2de7270cc6c0",
   "metadata": {},
   "outputs": [],
   "source": [
    "# Obtenemos ahora una muestra aleatoria simple sin reemplazamiento de tamaño 100\n",
    "sample_size = 100\n",
    "sample = np.random.choice(population, size=sample_size, replace=False)"
   ]
  },
  {
   "cell_type": "code",
   "execution_count": null,
   "id": "52480ec3-caaf-41e7-980f-9119081bdd12",
   "metadata": {},
   "outputs": [],
   "source": [
    "# m Creamos una serie de pandas para visualizar mejor los datos\n",
    "sample_pd = pd.Series(sample)\n",
    "sample_pd.head()  # Muestra los 5 primeros datos de la serie"
   ]
  },
  {
   "cell_type": "code",
   "execution_count": null,
   "id": "5fea79d5-a1ba-4367-9ab5-22f682807935",
   "metadata": {},
   "outputs": [],
   "source": [
    "# Calculamos ahora los estimadores puntuales\n",
    "mean_sample = np.mean(sample)\n",
    "std_sample = np.std(sample, ddof=1)  # ddfo = 1 hace que sea insesgada (divide por n-1)\n",
    "print(f\"Media muestral = {mean_sample:.2f}\")\n",
    "print(f\"Desviación standard muestral = {std_sample:.2f}\")"
   ]
  },
  {
   "cell_type": "code",
   "execution_count": null,
   "id": "1cb90b3b-4d57-4bee-bd5d-c0d1d2b14860",
   "metadata": {},
   "outputs": [],
   "source": [
    "import numpy as np\n",
    "import pandas as pd\n",
    "\n",
    "\"\"\" Al importar nuevamente numpy, si queremos reproducir los resultados debemos fijar\n",
    "nuevamente la semilla aleatoria \"\"\"\n",
    "np.random.seed(8934)  # Marcar si queremos obtener diferentes resultados\n",
    "\n",
    "\"\"\" Generamos una población binomial con probabilidad de éxito (defectuosa) 0.7 y tamaño 1000. \n",
    "En principio, el controlador de calidad no conoce el valor del parámetro p = 0.7\"\"\"\n",
    "data_binomial = np.random.binomial(1, 0.7, size=1000)  # 1000 experimentos Bernouilli\n",
    "\n",
    "# Obtenemos una muestra de tamaño 100 de la población de datos\n",
    "sample_binomial = np.random.choice(data_binomial, size=100, replace=False)\n",
    "\"\"\" Definimos una función que recibe una población y un valor de éxito\n",
    "y devuelve la estimación puntual de la proporción y del error estándar \"\"\"\n",
    "\n",
    "\n",
    "def estimar_proporcion(sample, valor_exito):\n",
    "    n = len(sample)\n",
    "    exitos = np.sum(sample == valor_exito)\n",
    "    estimador_p = exitos / n\n",
    "    estimador_se = np.sqrt((estimador_p * (1 - estimador_p)) / n)\n",
    "    return estimador_p, estimador_se\n",
    "\n",
    "\n",
    "# Pasamos a esta función nuestros datos Bernouilli indicando que el éxito es 1\n",
    "p_estimada, se_estimada = estimar_proporcion(sample_binomial, 1)\n",
    "print(\"Estimación de la proporción:\")\n",
    "print(f\"\\tProporción estimada = {p_estimada:.4f}\")\n",
    "print(f\"\\tError estándar estimado: {se_estimada:.4f}\")\n",
    "print(\n",
    "    f\"Con esta muestra, la proporción de piezas defectuosas es del {p_estimada * 100:.2f} % con un error estándar del {se_estimada * 100:.2f} %.\"\n",
    ")"
   ]
  }
 ],
 "metadata": {
  "kernelspec": {
   "display_name": "Python 3 (ipykernel)",
   "language": "python",
   "name": "python3"
  },
  "language_info": {
   "codemirror_mode": {
    "name": "ipython",
    "version": 3
   },
   "file_extension": ".py",
   "mimetype": "text/x-python",
   "name": "python",
   "nbconvert_exporter": "python",
   "pygments_lexer": "ipython3",
   "version": "3.10.13"
  }
 },
 "nbformat": 4,
 "nbformat_minor": 5
}
