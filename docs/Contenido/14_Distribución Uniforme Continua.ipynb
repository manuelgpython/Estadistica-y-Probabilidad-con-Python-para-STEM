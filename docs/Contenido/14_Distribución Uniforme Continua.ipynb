{
 "cells": [
  {
   "cell_type": "markdown",
   "id": "30130502-d43f-4cc3-b005-d4ca391ce1b4",
   "metadata": {},
   "source": [
    "# 14_DISTRIBUCIÓN UNIFORME CONTINUA\n",
    "\n",
    "### Posición inicial de un robot"
   ]
  },
  {
   "cell_type": "code",
   "execution_count": null,
   "id": "a667ee4f-e97b-4893-bebb-7bfce9122e71",
   "metadata": {},
   "outputs": [],
   "source": [
    "# Importamos la función de distribución de scipy\n",
    "from scipy.stats import uniform\n",
    "\n",
    "# Parámetros de la distribución\n",
    "a, b = [0, 10]\n",
    "\n",
    "# Generamos una posición inicial\n",
    "start_position = uniform(loc=a, scale=b - a).rvs()\n",
    "print(f\"La posición inicial del robot es {start_position:.2f} metros\")"
   ]
  },
  {
   "cell_type": "code",
   "execution_count": null,
   "id": "ddd44e9c-2b1d-4010-9a31-b5d5a716ad13",
   "metadata": {},
   "outputs": [],
   "source": [
    "p_2_8 = uniform(loc=a, scale=b - a).cdf(8) - uniform(loc=a, scale=b - a).cdf(2)\n",
    "print(f\"La probabilidad de que el robot esté entre el 2º y 8º metro es {p_2_8:.4f}\")"
   ]
  },
  {
   "cell_type": "markdown",
   "id": "244bd8f5-6f43-46cf-9d0b-71bf25d37013",
   "metadata": {},
   "source": [
    "### Simulación de temperaturas en un sistema"
   ]
  },
  {
   "cell_type": "code",
   "execution_count": null,
   "id": "75525b20-9656-43de-9885-480559b22590",
   "metadata": {},
   "outputs": [],
   "source": [
    "import random\n",
    "import numpy as np\n",
    "import matplotlib.pyplot as plt\n",
    "\n",
    "# Configuración inicial\n",
    "range_temperatures = (15, 20)  # Rango de temperaturas en grados Celsius\n",
    "total_time = 60  # Duración del experimento en minutos\n",
    "measures = 60  # Número de mediciones (una cada minuto)\n",
    "\n",
    "# Simular temperaturas uniformemente distribuidas\n",
    "temperatures = [random.uniform(*range_temperatures) for _ in range(measures)]\n",
    "\n",
    "# Estadísticas de las temperaturas\n",
    "temp_min = min(temperatures)\n",
    "temp_max = max(temperatures)\n",
    "temp_mean = np.mean(temperatures)\n",
    "\n",
    "print(f\"Temperatura mínima: {temp_min:.2f} °C\")\n",
    "print(f\"Temperatura máxima: {temp_max:.2f} °C\")\n",
    "print(f\"Temperatura promedio: {temp_mean:.2f} °C\")\n",
    "\n",
    "# Comparación con un rango seguro\n",
    "safe_range = (16.5, 18.5)\n",
    "safe_temperatures = [\n",
    "    temp for temp in temperatures if safe_range[0] <= temp <= safe_range[1]\n",
    "]\n",
    "\n",
    "# Porcentaje de mediciones seguras\n",
    "percentage_safe = (len(safe_temperatures) / len(temperatures)) * 100\n",
    "print(f\"Porcentaje de temperaturas dentro del rango seguro: {percentage_safe:.2f}%\")\n",
    "print()\n",
    "\n",
    "# Graficar las temperaturas a lo largo del tiempo\n",
    "time = np.linspace(0, total_time, measures)\n",
    "\n",
    "plt.figure(figsize=(10, 6))\n",
    "plt.plot(time, temperatures, label=\"Temperaturas simuladas\", color=\"blue\", marker=\"o\")\n",
    "plt.axhline(\n",
    "    y=range_temperatures[0], color=\"green\", linestyle=\"--\", label=\"Límite inferior\"\n",
    ")\n",
    "plt.axhline(\n",
    "    y=range_temperatures[1], color=\"red\", linestyle=\"--\", label=\"Límite superior\"\n",
    ")\n",
    "plt.axhline(\n",
    "    y=safe_range[0],\n",
    "    color=\"purple\",\n",
    "    linewidth=2,\n",
    "    linestyle=\":\",\n",
    "    label=\"Rango seguro (mín)\",\n",
    ")\n",
    "plt.axhline(\n",
    "    y=safe_range[1],\n",
    "    color=\"purple\",\n",
    "    linewidth=2,\n",
    "    linestyle=\":\",\n",
    "    label=\"Rango seguro (máx)\",\n",
    ")\n",
    "plt.title(\"Simulación de Temperaturas del Sistema\")\n",
    "plt.xlabel(\"Tiempo (minutos)\")\n",
    "plt.ylabel(\"Temperatura (°C)\")\n",
    "plt.legend()\n",
    "plt.show()"
   ]
  },
  {
   "cell_type": "code",
   "execution_count": null,
   "id": "cbf79031-2836-414b-b2e4-cd449a6b8ae8",
   "metadata": {},
   "outputs": [],
   "source": []
  }
 ],
 "metadata": {
  "kernelspec": {
   "display_name": "Python 3 (ipykernel)",
   "language": "python",
   "name": "python3"
  },
  "language_info": {
   "codemirror_mode": {
    "name": "ipython",
    "version": 3
   },
   "file_extension": ".py",
   "mimetype": "text/x-python",
   "name": "python",
   "nbconvert_exporter": "python",
   "pygments_lexer": "ipython3",
   "version": "3.10.13"
  }
 },
 "nbformat": 4,
 "nbformat_minor": 5
}
