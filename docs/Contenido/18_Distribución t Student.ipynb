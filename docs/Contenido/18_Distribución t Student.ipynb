{
 "cells": [
  {
   "cell_type": "markdown",
   "id": "72f1ba89-4f03-4ba9-b220-96234393f186",
   "metadata": {},
   "source": [
    "# 18_DISTRIBUCIÓN t STUDENT"
   ]
  },
  {
   "cell_type": "code",
   "execution_count": null,
   "id": "5f0e6fd0-2231-4cd4-9727-8f9f1b4d393d",
   "metadata": {},
   "outputs": [],
   "source": [
    "# Importamos librerías\n",
    "import numpy as np\n",
    "import matplotlib.pyplot as plt\n",
    "from scipy.stats import t\n",
    "\n",
    "# Grados de libertad\n",
    "df_t = [1, 5, 8, 30]\n",
    "\n",
    "# Visualización\n",
    "x_t = np.linspace(-5, 5, 1000)\n",
    "plt.figure(figsize=(12, 6))\n",
    "for df in df_t:\n",
    "    plt.plot(x_t, t.pdf(x_t, df), label=f\"Grados de libertad = {df}\")\n",
    "plt.title(\"Distribuciones t de Student\")\n",
    "plt.legend()\n",
    "plt.show()"
   ]
  },
  {
   "cell_type": "code",
   "execution_count": null,
   "id": "80c11c3c-dc9f-4f34-931e-92c65909168d",
   "metadata": {},
   "outputs": [],
   "source": [
    "# Importamos librerías\n",
    "import numpy as np\n",
    "import matplotlib.pyplot as plt\n",
    "from scipy.stats import t\n",
    "\n",
    "# Grados de libertad, valor crítico y probabilidad\n",
    "df_t = 8\n",
    "t_value = 1.0\n",
    "prob_t = t.cdf(t_value, df_t)\n",
    "print(f\"P(T <= {t_value}) con {df_t} gl: {prob_t:.4f}\")\n",
    "print()\n",
    "\n",
    "# Visualización\n",
    "x_t = np.linspace(t.ppf(0.001, df_t), t.ppf(0.999, df_t), 1000)\n",
    "pdf_t = t.pdf(x_t, df_t)\n",
    "cdf_t = t.cdf(x_t, df_t)\n",
    "\n",
    "\n",
    "plt.figure(figsize=(12, 6))\n",
    "plt.subplot(1, 2, 1)  # Función de densidad\n",
    "plt.plot(x_t, pdf_t, label=f\"t de Student (df={df_t})\")\n",
    "plt.fill_between(x_t, pdf_t, where=(x_t <= t_value), color=\"blue\", alpha=0.5)\n",
    "plt.title(f\"PDF de t de Student (df={df_t})\")\n",
    "plt.xlabel(\"Valor\")\n",
    "plt.ylabel(\"Densidad de Probabilidad\")\n",
    "plt.legend()\n",
    "\n",
    "plt.subplot(1, 2, 2)  # Función acumulada\n",
    "plt.plot(x_t, cdf_t, label=f\"CDF de t de Student (df={df_t})\")\n",
    "plt.axvline(\n",
    "    x=t_value, color=\"red\", linestyle=\"--\", label=f\"P(T <= {t_value}) = {prob_t:.4f}\"\n",
    ")\n",
    "plt.title(f\"CDF de t de Student (df={df_t})\")\n",
    "plt.xlabel(\"Valor\")\n",
    "plt.ylabel(\"Probabilidad Acumulada\")\n",
    "plt.legend()\n",
    "\n",
    "plt.tight_layout()\n",
    "plt.show()"
   ]
  }
 ],
 "metadata": {
  "kernelspec": {
   "display_name": "Python 3 (ipykernel)",
   "language": "python",
   "name": "python3"
  },
  "language_info": {
   "codemirror_mode": {
    "name": "ipython",
    "version": 3
   },
   "file_extension": ".py",
   "mimetype": "text/x-python",
   "name": "python",
   "nbconvert_exporter": "python",
   "pygments_lexer": "ipython3",
   "version": "3.10.13"
  }
 },
 "nbformat": 4,
 "nbformat_minor": 5
}
