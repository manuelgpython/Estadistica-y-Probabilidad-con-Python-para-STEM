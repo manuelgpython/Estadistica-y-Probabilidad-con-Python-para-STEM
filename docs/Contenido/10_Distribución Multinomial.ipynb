{
 "cells": [
  {
   "cell_type": "markdown",
   "id": "04254ce8",
   "metadata": {},
   "source": [
    "# 10_DISTRIBUCIÓN MULTINOMIAL"
   ]
  },
  {
   "cell_type": "code",
   "execution_count": null,
   "id": "49c56f0b",
   "metadata": {},
   "outputs": [],
   "source": [
    "# Importamos numpy y la función multinomial de scipy\n",
    "import numpy as np\n",
    "from scipy.stats import multinomial\n",
    "import matplotlib.pyplot as plt\n",
    "\n",
    "# Parámetros de la distribución\n",
    "n = 16\n",
    "probs = np.ones(6) * 1 / 6\n",
    "\n",
    "# Resultado\n",
    "result = [3, 5, 2, 4, 1, 1]  # Se puede pasar una lista o un array de numpy\n",
    "\n",
    "# Calculamos la probabilidad\n",
    "prob = multinomial.pmf(result, n, probs)\n",
    "print(f\"La probabilidad pedida es {prob:.4f}\")"
   ]
  },
  {
   "cell_type": "markdown",
   "id": "dd60ef2f",
   "metadata": {},
   "source": [
    "### Genética"
   ]
  },
  {
   "cell_type": "code",
   "execution_count": null,
   "id": "76a8628a",
   "metadata": {},
   "outputs": [],
   "source": [
    "# Importamos numpy y la función multinomial de scipy\n",
    "import numpy as np\n",
    "from scipy.stats import multinomial\n",
    "import matplotlib.pyplot as plt\n",
    "\n",
    "# Ejemplo de herencia mendeliana con tres fenotipos\n",
    "\n",
    "n_organisms = 100\n",
    "\n",
    "# Probabilidades: dominante (AA), heterocigoto (Aa), recesivo (aa)\n",
    "prob_genotypes = np.array([0.25, 0.5, 0.25])  # AA, Aa, aa\n",
    "\n",
    "\"\"\" Generamos la población (también podríamos utilizar multinomial.rvs)\n",
    "    en un array con el número de organismos para cada fenotipo \"\"\"\n",
    "population = np.random.multinomial(n_organisms, prob_genotypes)\n",
    "\n",
    "print(\"Distribución de genotipos en la población\")\n",
    "print(f\"\\tAA (dominante): {population[0]}\")\n",
    "print(f\"\\tAa (heterocigoto): {population[1]}\")\n",
    "print(f\"\\taa (recesivo): {population[2]}\")\n",
    "\n",
    "# Probabilidad de obtener exactamente esa distribución\n",
    "prob = multinomial.pmf(population, n_organisms, prob_genotypes)\n",
    "print(f\"\\nProbabilidad de esta distribución específica: {prob:.4f}\")\n",
    "\n",
    "# Graficamos\n",
    "labels = [\"AA (dominante)\", \"Aa (heterocigoto)\", \"aa (recesivo)\"]\n",
    "colors = [\"skyblue\", \"lightgreen\", \"salmon\"]\n",
    "plt.figure(figsize=(6, 4))\n",
    "plt.bar(labels, population, color=colors)\n",
    "plt.title(\"Distribución de Genotipos en la Población\", fontsize=9)\n",
    "plt.xlabel(\"Genotipos\", fontsize=8)\n",
    "plt.ylabel(\"Organismos\", fontsize=8)\n",
    "plt.grid(axis=\"y\", linestyle=\"--\", alpha=0.7)\n",
    "plt.show()"
   ]
  },
  {
   "cell_type": "markdown",
   "id": "a74c2328",
   "metadata": {},
   "source": [
    "### Ingeniería de Materiales"
   ]
  },
  {
   "cell_type": "code",
   "execution_count": null,
   "id": "0b7e42dc",
   "metadata": {},
   "outputs": [],
   "source": [
    "# Importamos numpy y la función multinomial de scipy\n",
    "import numpy as np\n",
    "from scipy.stats import multinomial\n",
    "import matplotlib.pyplot as plt\n",
    "\n",
    "# Parámetros de la distribución\n",
    "n_defects = 300\n",
    "probabilities = [0.5, 0.25, 0.1, 0.15]\n",
    "\n",
    "# Generamos la poblacion\n",
    "population = multinomial.rvs(n_defects, probabilities)"
   ]
  },
  {
   "cell_type": "code",
   "execution_count": null,
   "id": "7fea8f80",
   "metadata": {},
   "outputs": [],
   "source": [
    "# Veamos la salida de este array\n",
    "population"
   ]
  },
  {
   "cell_type": "code",
   "execution_count": null,
   "id": "4c126388",
   "metadata": {},
   "outputs": [],
   "source": [
    "# Distribución de defectos\n",
    "print(\"Distribución de defectos\")\n",
    "print(f\"\\tVacantes): {population[0]}\")\n",
    "print(f\"\\tIntersticiales: {population[1]}\")\n",
    "print(f\"\\tDislocaciones: {population[2]}\")\n",
    "print(f\"\\tFronteras: {population[3]}\")\n",
    "\n",
    "# Estadísticos\n",
    "prob_np = np.array(probabilities)\n",
    "means = n_defects * prob_np\n",
    "four_1 = np.ones(4)\n",
    "variances = n_defects * prob_np * (four_1 - prob_np)\n",
    "covariance_matrix = multinomial.cov(n_defects, prob_np)\n",
    "\n",
    "print(\"\\nEstadísticos:\")\n",
    "print(\"\\tMatriz de covarianza:\")\n",
    "print(covariance_matrix)\n",
    "for label, mean, variance in zip(labels, means, variances):\n",
    "    print(f\"\\tDefecto: {label}\")\n",
    "    print(f\"\\t\\tMedia {mean:.2f}\")\n",
    "    print(f\"\\t\\tVarianza {variance:.2f}\")\n",
    "\n",
    "# Graficamos\n",
    "labels = [\"Vacantes\", \"Intersticiales\", \"Dislocaciones\", \"Fronteras\"]\n",
    "colors = [\"skyblue\", \"lightgreen\", \"salmon\", \"yellow\"]\n",
    "plt.figure(figsize=(6, 4))\n",
    "plt.bar(labels, population, color=colors)\n",
    "plt.title(\"Distribución de Defectos\", fontsize=9)\n",
    "plt.xlabel(\"Defectos\", fontsize=8)\n",
    "plt.ylabel(\"Número de defectos\", fontsize=8)\n",
    "plt.grid(axis=\"y\", linestyle=\"--\", alpha=0.7)\n",
    "plt.show()"
   ]
  },
  {
   "cell_type": "markdown",
   "id": "614d8be8",
   "metadata": {},
   "source": [
    "### Análisis de fallos en un sistema de telecomunicaciones"
   ]
  },
  {
   "cell_type": "code",
   "execution_count": null,
   "id": "af15b2a0",
   "metadata": {},
   "outputs": [],
   "source": [
    "# Importamos numpy y la función multinomial de scipy\n",
    "import numpy as np\n",
    "from scipy.stats import multinomial\n",
    "import matplotlib.pyplot as plt\n",
    "import pandas as pd  # Para facilitar la visualización de los datos\n",
    "\n",
    "# Parámetros del modelo\n",
    "number_failures = 500\n",
    "number_cycles = 200\n",
    "probabilities = np.array([175, 125, 100, 75, 25]) / 500\n",
    "labels = [\"Hardware\", \"Software\", \"Red\", \"Energía\", \"Humano\"]\n",
    "resolution_time = {\"Hardware\": 4, \"Software\": 2, \"Red\": 1, \"Energía\": 3, \"Humano\": 0.5}\n",
    "costs_failure = {\n",
    "    \"Hardware\": 1000,\n",
    "    \"Software\": 500,\n",
    "    \"Red\": 300,\n",
    "    \"Energía\": 800,\n",
    "    \"Humano\": 200,\n",
    "}\n",
    "\n",
    "# Generamos las observaciones\n",
    "results = multinomial.rvs(number_failures, probabilities, number_cycles)"
   ]
  },
  {
   "cell_type": "code",
   "execution_count": null,
   "id": "0accb4ca",
   "metadata": {},
   "outputs": [],
   "source": [
    "# Creamos el Dataframe para visualizar los datos\n",
    "results_pd = pd.DataFrame(results)\n",
    "# Renombramos las columnas\n",
    "results_pd = results_pd.set_axis(\n",
    "    [\"Hardware\", \"Software\", \"Red\", \"Energía\", \"Humano\"], axis=1\n",
    ")\n",
    "# Visualizamos los 5 primeros ciclos\n",
    "results_pd.head()"
   ]
  },
  {
   "cell_type": "code",
   "execution_count": null,
   "id": "423f72ef",
   "metadata": {},
   "outputs": [],
   "source": [
    "results_pd[\"Total Errores\"] = results_pd.sum(axis=1)\n",
    "results_pd.head()"
   ]
  },
  {
   "cell_type": "code",
   "execution_count": null,
   "id": "47b5efa5",
   "metadata": {},
   "outputs": [],
   "source": [
    "# Calculamos la media de cada tipo de error\n",
    "means_failures = np.mean(results, axis=0)\n",
    "means_failures"
   ]
  },
  {
   "cell_type": "code",
   "execution_count": null,
   "id": "9abc565e",
   "metadata": {},
   "outputs": [],
   "source": [
    "\"\"\"Utilizando estas medias calculamos el tiempo medio total empleado en subsanar\n",
    "los fallos. Si consideramos una base anual de 8760 horas (un año), calculamos\n",
    "también la disponibilidad anual estimada.\n",
    "\"\"\"\n",
    "\n",
    "ANNUAL_HOURS = 365 * 24\n",
    "total_time = sum(means_failures * [resolution_time[label] for label in labels])\n",
    "availability = (ANNUAL_HOURS - total_time) / ANNUAL_HOURS * 100\n",
    "print(f\"La disponibilidad anual estimada es del {availability:.2f}%\")"
   ]
  },
  {
   "cell_type": "code",
   "execution_count": null,
   "id": "57b452a2",
   "metadata": {},
   "outputs": [],
   "source": [
    "\"\"\"Para el análisis económico, procedemos de un modo similar. Calculamos el coste\n",
    "promedio total.\n",
    "\"\"\"\n",
    "\n",
    "total_cost = np.sum(means_failures * [costs_failure[label] for label in labels])\n",
    "print(f\"El coste medio mensual de mantenimiento será de {total_cost/12:.0f} €\")"
   ]
  },
  {
   "cell_type": "code",
   "execution_count": null,
   "id": "dd3b74c2",
   "metadata": {},
   "outputs": [],
   "source": [
    "# Graficamos la distribución medias\n",
    "colors = [\"skyblue\", \"lightgreen\", \"salmon\", \"yellow\", \"orange\"]\n",
    "plt.figure(figsize=(6, 4))\n",
    "plt.bar(labels, means_failures, color=colors)\n",
    "plt.title(\"Distribución de fallos (medias)\", fontsize=9)\n",
    "plt.xlabel(\"Origen de los fallos\", fontsize=8)\n",
    "plt.ylabel(\"Número de fallos\", fontsize=8)\n",
    "plt.grid(axis=\"y\", linestyle=\"--\", alpha=0.7)\n",
    "plt.show()"
   ]
  }
 ],
 "metadata": {
  "kernelspec": {
   "display_name": "Python 3 (ipykernel)",
   "language": "python",
   "name": "python3"
  },
  "language_info": {
   "codemirror_mode": {
    "name": "ipython",
    "version": 3
   },
   "file_extension": ".py",
   "mimetype": "text/x-python",
   "name": "python",
   "nbconvert_exporter": "python",
   "pygments_lexer": "ipython3",
   "version": "3.10.13"
  }
 },
 "nbformat": 4,
 "nbformat_minor": 5
}
