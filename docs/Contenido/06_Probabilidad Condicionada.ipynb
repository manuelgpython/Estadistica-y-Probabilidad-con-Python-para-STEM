{
 "cells": [
  {
   "cell_type": "markdown",
   "id": "de22d91f-c4ef-406d-91fc-372fcf75c7c1",
   "metadata": {},
   "source": [
    "# 6_PROBABILIDAD CONDICIONADA E INDEPENDENCIA. TEOREMAS DE LA PROBABILIDAD TOTA Y DE BAYES\n",
    "\n",
    "### Control de calidad en una fábrica de componentes electrónicos"
   ]
  },
  {
   "cell_type": "code",
   "execution_count": 4,
   "id": "373fcf9a-c535-409d-8be5-c78fc1b697a5",
   "metadata": {},
   "outputs": [
    {
     "data": {
      "text/html": [
       "<div>\n",
       "<style scoped>\n",
       "    .dataframe tbody tr th:only-of-type {\n",
       "        vertical-align: middle;\n",
       "    }\n",
       "\n",
       "    .dataframe tbody tr th {\n",
       "        vertical-align: top;\n",
       "    }\n",
       "\n",
       "    .dataframe thead th {\n",
       "        text-align: right;\n",
       "    }\n",
       "</style>\n",
       "<table border=\"1\" class=\"dataframe\">\n",
       "  <thead>\n",
       "    <tr style=\"text-align: right;\">\n",
       "      <th></th>\n",
       "      <th>Tipo</th>\n",
       "      <th>Producción</th>\n",
       "      <th>Tasa_Defectos</th>\n",
       "    </tr>\n",
       "  </thead>\n",
       "  <tbody>\n",
       "    <tr>\n",
       "      <th>0</th>\n",
       "      <td>A</td>\n",
       "      <td>0.40</td>\n",
       "      <td>0.02</td>\n",
       "    </tr>\n",
       "    <tr>\n",
       "      <th>1</th>\n",
       "      <td>B</td>\n",
       "      <td>0.35</td>\n",
       "      <td>0.03</td>\n",
       "    </tr>\n",
       "    <tr>\n",
       "      <th>2</th>\n",
       "      <td>C</td>\n",
       "      <td>0.25</td>\n",
       "      <td>0.01</td>\n",
       "    </tr>\n",
       "  </tbody>\n",
       "</table>\n",
       "</div>"
      ],
      "text/plain": [
       "  Tipo  Producción  Tasa_Defectos\n",
       "0    A        0.40           0.02\n",
       "1    B        0.35           0.03\n",
       "2    C        0.25           0.01"
      ]
     },
     "execution_count": 4,
     "metadata": {},
     "output_type": "execute_result"
    }
   ],
   "source": [
    "# Importamos las librerías\n",
    "import numpy as np\n",
    "import pandas as pd\n",
    "\n",
    "# Creamos una tabla de contingencia con los datos a partir de un diccionario\n",
    "data = {\n",
    "    \"Tipo\": [\"A\", \"B\", \"C\"],\n",
    "    \"Producción\": [0.40, 0.35, 0.25],\n",
    "    \"Tasa_Defectos\": [0.02, 0.03, 0.01],\n",
    "}\n",
    "df = pd.DataFrame(data)\n",
    "df"
   ]
  },
  {
   "cell_type": "code",
   "execution_count": 7,
   "id": "a1600b55-3d5c-4079-8d22-10ebf0d1c668",
   "metadata": {},
   "outputs": [
    {
     "name": "stdout",
     "output_type": "stream",
     "text": [
      "Tabla de contingencia para el Contexto 1:\n"
     ]
    },
    {
     "data": {
      "text/html": [
       "<div>\n",
       "<style scoped>\n",
       "    .dataframe tbody tr th:only-of-type {\n",
       "        vertical-align: middle;\n",
       "    }\n",
       "\n",
       "    .dataframe tbody tr th {\n",
       "        vertical-align: top;\n",
       "    }\n",
       "\n",
       "    .dataframe thead th {\n",
       "        text-align: right;\n",
       "    }\n",
       "</style>\n",
       "<table border=\"1\" class=\"dataframe\">\n",
       "  <thead>\n",
       "    <tr style=\"text-align: right;\">\n",
       "      <th></th>\n",
       "      <th>Tipo</th>\n",
       "      <th>Producción</th>\n",
       "      <th>Tasa_Defectos</th>\n",
       "      <th>Defectuosos</th>\n",
       "      <th>Tasa_No_Defectos</th>\n",
       "      <th>No_Defectuosos</th>\n",
       "    </tr>\n",
       "  </thead>\n",
       "  <tbody>\n",
       "    <tr>\n",
       "      <th>0</th>\n",
       "      <td>A</td>\n",
       "      <td>0.40</td>\n",
       "      <td>0.02</td>\n",
       "      <td>0.0080</td>\n",
       "      <td>0.98</td>\n",
       "      <td>0.3920</td>\n",
       "    </tr>\n",
       "    <tr>\n",
       "      <th>1</th>\n",
       "      <td>B</td>\n",
       "      <td>0.35</td>\n",
       "      <td>0.03</td>\n",
       "      <td>0.0105</td>\n",
       "      <td>0.97</td>\n",
       "      <td>0.3395</td>\n",
       "    </tr>\n",
       "    <tr>\n",
       "      <th>2</th>\n",
       "      <td>C</td>\n",
       "      <td>0.25</td>\n",
       "      <td>0.01</td>\n",
       "      <td>0.0025</td>\n",
       "      <td>0.99</td>\n",
       "      <td>0.2475</td>\n",
       "    </tr>\n",
       "  </tbody>\n",
       "</table>\n",
       "</div>"
      ],
      "text/plain": [
       "  Tipo  Producción  Tasa_Defectos  Defectuosos  Tasa_No_Defectos  \\\n",
       "0    A        0.40           0.02       0.0080              0.98   \n",
       "1    B        0.35           0.03       0.0105              0.97   \n",
       "2    C        0.25           0.01       0.0025              0.99   \n",
       "\n",
       "   No_Defectuosos  \n",
       "0          0.3920  \n",
       "1          0.3395  \n",
       "2          0.2475  "
      ]
     },
     "execution_count": 7,
     "metadata": {},
     "output_type": "execute_result"
    }
   ],
   "source": [
    "# Añadimos tres columnas más\n",
    "df[\"Defectuosos\"] = df[\"Producción\"] * df[\"Tasa_Defectos\"]\n",
    "df[\"Tasa_No_Defectos\"] = 1 - df[\"Tasa_Defectos\"]\n",
    "df[\"No_Defectuosos\"] = df[\"Producción\"] * (1 - df[\"Tasa_Defectos\"])\n",
    "\n",
    "print(\"Tabla de contingencia para el Contexto 1:\")\n",
    "df"
   ]
  },
  {
   "cell_type": "code",
   "execution_count": 11,
   "id": "ae582d55-76d5-47e7-99d7-d5e5cb6ce260",
   "metadata": {},
   "outputs": [
    {
     "name": "stdout",
     "output_type": "stream",
     "text": [
      "La probabilidad de que un componente sea defectuoso es 0.0210\n",
      "La probabilidad de que un componente defectuoso sea del tipo A es 0.3810\n"
     ]
    }
   ],
   "source": [
    "\"\"\"Pregunta 1: Probabilidad de que un componente sea defectuoso es la suma\n",
    "de la columna \"Defectuosos\" (Teorema de la Probabilidad Total)\"\"\"\n",
    "\n",
    "prob_defectuoso = df[\"Defectuosos\"].sum()\n",
    "print(f\"La probabilidad de que un componente sea defectuoso es {prob_defectuoso:.4f}\")\n",
    "\n",
    "\"\"\" Probabilidad de que un componente defectuoso\n",
    "sea del tipo A (Teorema de Bayes) \"\"\"\n",
    "\n",
    "# Buscamos en el df la intersección del tipo A con \"Defectuoso\"\n",
    "prob_A_dado_defectuoso = (\n",
    "    df.loc[df[\"Tipo\"] == \"A\", \"Defectuosos\"].values[0] / prob_defectuoso\n",
    ")\n",
    "print(\n",
    "    f\"La probabilidad de que un componente defectuoso sea del tipo A es {prob_A_dado_defectuoso:.4f}\"\n",
    ")"
   ]
  },
  {
   "cell_type": "markdown",
   "id": "f98e0e7b-94bf-44e5-af44-515f843b2afe",
   "metadata": {},
   "source": [
    "### Mantenimiento preventivo en una planta industrial"
   ]
  },
  {
   "cell_type": "code",
   "execution_count": 12,
   "id": "1be91332-166a-41d1-8d34-6e42ce50b02c",
   "metadata": {},
   "outputs": [
    {
     "data": {
      "text/html": [
       "<div>\n",
       "<style scoped>\n",
       "    .dataframe tbody tr th:only-of-type {\n",
       "        vertical-align: middle;\n",
       "    }\n",
       "\n",
       "    .dataframe tbody tr th {\n",
       "        vertical-align: top;\n",
       "    }\n",
       "\n",
       "    .dataframe thead th {\n",
       "        text-align: right;\n",
       "    }\n",
       "</style>\n",
       "<table border=\"1\" class=\"dataframe\">\n",
       "  <thead>\n",
       "    <tr style=\"text-align: right;\">\n",
       "      <th></th>\n",
       "      <th>Mantenimiento</th>\n",
       "      <th>Probabilidad</th>\n",
       "      <th>Prob_Falla</th>\n",
       "    </tr>\n",
       "  </thead>\n",
       "  <tbody>\n",
       "    <tr>\n",
       "      <th>0</th>\n",
       "      <td>Realizado</td>\n",
       "      <td>0.142857</td>\n",
       "      <td>0.02</td>\n",
       "    </tr>\n",
       "    <tr>\n",
       "      <th>1</th>\n",
       "      <td>No Realizado</td>\n",
       "      <td>0.857143</td>\n",
       "      <td>0.05</td>\n",
       "    </tr>\n",
       "  </tbody>\n",
       "</table>\n",
       "</div>"
      ],
      "text/plain": [
       "  Mantenimiento  Probabilidad  Prob_Falla\n",
       "0     Realizado      0.142857        0.02\n",
       "1  No Realizado      0.857143        0.05"
      ]
     },
     "execution_count": 12,
     "metadata": {},
     "output_type": "execute_result"
    }
   ],
   "source": [
    "# Crear tabla de contingencia con los datos\n",
    "data = {\n",
    "    \"Mantenimiento\": [\"Realizado\", \"No Realizado\"],\n",
    "    \"Probabilidad\": [1 / 7, 6 / 7],\n",
    "    \"Prob_Falla\": [0.02, 0.05],\n",
    "}\n",
    "\n",
    "df = pd.DataFrame(data)\n",
    "df"
   ]
  },
  {
   "cell_type": "code",
   "execution_count": 13,
   "id": "35079a9a-c5cd-41d2-ba6d-67019877c215",
   "metadata": {},
   "outputs": [
    {
     "name": "stdout",
     "output_type": "stream",
     "text": [
      "Tabla de contingencia para el Problema 2\n"
     ]
    },
    {
     "data": {
      "text/html": [
       "<div>\n",
       "<style scoped>\n",
       "    .dataframe tbody tr th:only-of-type {\n",
       "        vertical-align: middle;\n",
       "    }\n",
       "\n",
       "    .dataframe tbody tr th {\n",
       "        vertical-align: top;\n",
       "    }\n",
       "\n",
       "    .dataframe thead th {\n",
       "        text-align: right;\n",
       "    }\n",
       "</style>\n",
       "<table border=\"1\" class=\"dataframe\">\n",
       "  <thead>\n",
       "    <tr style=\"text-align: right;\">\n",
       "      <th></th>\n",
       "      <th>Mantenimiento</th>\n",
       "      <th>Probabilidad</th>\n",
       "      <th>Prob_Falla</th>\n",
       "      <th>Prob_No_Falla</th>\n",
       "      <th>Falla</th>\n",
       "      <th>No_Falla</th>\n",
       "    </tr>\n",
       "  </thead>\n",
       "  <tbody>\n",
       "    <tr>\n",
       "      <th>0</th>\n",
       "      <td>Realizado</td>\n",
       "      <td>0.142857</td>\n",
       "      <td>0.02</td>\n",
       "      <td>0.98</td>\n",
       "      <td>0.002857</td>\n",
       "      <td>0.140000</td>\n",
       "    </tr>\n",
       "    <tr>\n",
       "      <th>1</th>\n",
       "      <td>No Realizado</td>\n",
       "      <td>0.857143</td>\n",
       "      <td>0.05</td>\n",
       "      <td>0.95</td>\n",
       "      <td>0.042857</td>\n",
       "      <td>0.814286</td>\n",
       "    </tr>\n",
       "  </tbody>\n",
       "</table>\n",
       "</div>"
      ],
      "text/plain": [
       "  Mantenimiento  Probabilidad  Prob_Falla  Prob_No_Falla     Falla  No_Falla\n",
       "0     Realizado      0.142857        0.02           0.98  0.002857  0.140000\n",
       "1  No Realizado      0.857143        0.05           0.95  0.042857  0.814286"
      ]
     },
     "execution_count": 13,
     "metadata": {},
     "output_type": "execute_result"
    }
   ],
   "source": [
    "# Ampliamos la tabla\n",
    "df[\"Prob_No_Falla\"] = 1 - df[\"Prob_Falla\"]\n",
    "df[\"Falla\"] = df[\"Probabilidad\"] * df[\"Prob_Falla\"]\n",
    "df[\"No_Falla\"] = df[\"Probabilidad\"] * df[\"Prob_No_Falla\"]\n",
    "\n",
    "print(\"Tabla de contingencia para el Problema 2\")\n",
    "df"
   ]
  },
  {
   "cell_type": "code",
   "execution_count": 18,
   "id": "12cd5214-f07e-487c-ae08-f491ae5977ab",
   "metadata": {},
   "outputs": [
    {
     "name": "stdout",
     "output_type": "stream",
     "text": [
      "La probabilidad de que al menos una máquina falle con mantenimiento es 0.0588\n",
      "La probabilidad de que no se haya realizado mantenimiento dado que una máquina falló es 0.9375\n"
     ]
    }
   ],
   "source": [
    "# Probabilidad de que al menos una máquina falle con mantnimiento\n",
    "p_falla_con_mantenimiento = df.loc[\n",
    "    df[\"Mantenimiento\"] == \"Realizado\", \"Prob_Falla\"\n",
    "].values[0]\n",
    "\n",
    "# Que al menos una falle es lo contrario a que no fallen las tres\n",
    "p_al_menos_una_falla = 1 - (1 - p_falla_con_mantenimiento) ** 3\n",
    "print(\n",
    "    f\"La probabilidad de que al menos una máquina falle con mantenimiento es {p_al_menos_una_falla:.4f}\"\n",
    ")\n",
    "\n",
    "# Probabilidad de que no se haya realizado mantenimiento dado que una máquina falló\n",
    "p_falla = df[\"Falla\"].sum()\n",
    "p_no_mantenimiento_dado_falla = (\n",
    "    df.loc[df[\"Mantenimiento\"] == \"No Realizado\", \"Falla\"].values[0] / p_falla\n",
    ")\n",
    "print(\n",
    "    f\"La probabilidad de que no se haya realizado mantenimiento dado que una máquina falló es {p_no_mantenimiento_dado_falla:.4f}\"\n",
    ")"
   ]
  },
  {
   "cell_type": "markdown",
   "id": "5627ffb5-a946-4ac6-8895-94cbca0b9cf1",
   "metadata": {},
   "source": [
    "### Análisis de riesgos en un proyecto de construcción"
   ]
  },
  {
   "cell_type": "code",
   "execution_count": 20,
   "id": "d798c8f9-2458-4257-8667-b3813b773f5f",
   "metadata": {},
   "outputs": [
    {
     "data": {
      "text/html": [
       "<div>\n",
       "<style scoped>\n",
       "    .dataframe tbody tr th:only-of-type {\n",
       "        vertical-align: middle;\n",
       "    }\n",
       "\n",
       "    .dataframe tbody tr th {\n",
       "        vertical-align: top;\n",
       "    }\n",
       "\n",
       "    .dataframe thead th {\n",
       "        text-align: right;\n",
       "    }\n",
       "</style>\n",
       "<table border=\"1\" class=\"dataframe\">\n",
       "  <thead>\n",
       "    <tr style=\"text-align: right;\">\n",
       "      <th></th>\n",
       "      <th>Riesgo</th>\n",
       "      <th>Probabilidad</th>\n",
       "      <th>Prob_Retraso</th>\n",
       "    </tr>\n",
       "  </thead>\n",
       "  <tbody>\n",
       "    <tr>\n",
       "      <th>0</th>\n",
       "      <td>Climático</td>\n",
       "      <td>0.20</td>\n",
       "      <td>0.6</td>\n",
       "    </tr>\n",
       "    <tr>\n",
       "      <th>1</th>\n",
       "      <td>Laboral</td>\n",
       "      <td>0.15</td>\n",
       "      <td>0.5</td>\n",
       "    </tr>\n",
       "    <tr>\n",
       "      <th>2</th>\n",
       "      <td>Suministro</td>\n",
       "      <td>0.10</td>\n",
       "      <td>0.4</td>\n",
       "    </tr>\n",
       "  </tbody>\n",
       "</table>\n",
       "</div>"
      ],
      "text/plain": [
       "       Riesgo  Probabilidad  Prob_Retraso\n",
       "0   Climático          0.20           0.6\n",
       "1     Laboral          0.15           0.5\n",
       "2  Suministro          0.10           0.4"
      ]
     },
     "execution_count": 20,
     "metadata": {},
     "output_type": "execute_result"
    }
   ],
   "source": [
    "# Crear tabla de contingencia\n",
    "data = {\n",
    "    \"Riesgo\": [\"Climático\", \"Laboral\", \"Suministro\"],\n",
    "    \"Probabilidad\": [0.2, 0.15, 0.1],\n",
    "    \"Prob_Retraso\": [0.6, 0.5, 0.4],\n",
    "}\n",
    "df = pd.DataFrame(data)\n",
    "df"
   ]
  },
  {
   "cell_type": "code",
   "execution_count": 21,
   "id": "ae9cdca5-c6ed-4e82-8713-ff4e1eb08656",
   "metadata": {},
   "outputs": [
    {
     "name": "stdout",
     "output_type": "stream",
     "text": [
      "Tabla de contingencia: \n",
      "\n"
     ]
    },
    {
     "data": {
      "text/html": [
       "<div>\n",
       "<style scoped>\n",
       "    .dataframe tbody tr th:only-of-type {\n",
       "        vertical-align: middle;\n",
       "    }\n",
       "\n",
       "    .dataframe tbody tr th {\n",
       "        vertical-align: top;\n",
       "    }\n",
       "\n",
       "    .dataframe thead th {\n",
       "        text-align: right;\n",
       "    }\n",
       "</style>\n",
       "<table border=\"1\" class=\"dataframe\">\n",
       "  <thead>\n",
       "    <tr style=\"text-align: right;\">\n",
       "      <th></th>\n",
       "      <th>Riesgo</th>\n",
       "      <th>Probabilidad</th>\n",
       "      <th>Prob_Retraso</th>\n",
       "      <th>Prob_No_Retraso</th>\n",
       "      <th>Retraso</th>\n",
       "      <th>No_Retraso</th>\n",
       "    </tr>\n",
       "  </thead>\n",
       "  <tbody>\n",
       "    <tr>\n",
       "      <th>0</th>\n",
       "      <td>Climático</td>\n",
       "      <td>0.20</td>\n",
       "      <td>0.6</td>\n",
       "      <td>0.4</td>\n",
       "      <td>0.120</td>\n",
       "      <td>0.080</td>\n",
       "    </tr>\n",
       "    <tr>\n",
       "      <th>1</th>\n",
       "      <td>Laboral</td>\n",
       "      <td>0.15</td>\n",
       "      <td>0.5</td>\n",
       "      <td>0.5</td>\n",
       "      <td>0.075</td>\n",
       "      <td>0.075</td>\n",
       "    </tr>\n",
       "    <tr>\n",
       "      <th>2</th>\n",
       "      <td>Suministro</td>\n",
       "      <td>0.10</td>\n",
       "      <td>0.4</td>\n",
       "      <td>0.6</td>\n",
       "      <td>0.040</td>\n",
       "      <td>0.060</td>\n",
       "    </tr>\n",
       "  </tbody>\n",
       "</table>\n",
       "</div>"
      ],
      "text/plain": [
       "       Riesgo  Probabilidad  Prob_Retraso  Prob_No_Retraso  Retraso  \\\n",
       "0   Climático          0.20           0.6              0.4    0.120   \n",
       "1     Laboral          0.15           0.5              0.5    0.075   \n",
       "2  Suministro          0.10           0.4              0.6    0.040   \n",
       "\n",
       "   No_Retraso  \n",
       "0       0.080  \n",
       "1       0.075  \n",
       "2       0.060  "
      ]
     },
     "execution_count": 21,
     "metadata": {},
     "output_type": "execute_result"
    }
   ],
   "source": [
    "# Ampliamos la tabla\n",
    "df[\"Prob_No_Retraso\"] = 1 - df[\"Prob_Retraso\"]\n",
    "df[\"Retraso\"] = df[\"Probabilidad\"] * df[\"Prob_Retraso\"]\n",
    "df[\"No_Retraso\"] = df[\"Probabilidad\"] * df[\"Prob_No_Retraso\"]\n",
    "\n",
    "print(\"Tabla de contingencia: \")\n",
    "print()\n",
    "df"
   ]
  },
  {
   "cell_type": "code",
   "execution_count": 23,
   "id": "ea799383-44b5-406e-8e01-03766727fd55",
   "metadata": {},
   "outputs": [
    {
     "name": "stdout",
     "output_type": "stream",
     "text": [
      "La probabilidad de que el proyecto se retrase es 0.2350\n",
      "La probabilidad de que el retraso se deba a un riesgo climático es 0.5106\n"
     ]
    }
   ],
   "source": [
    "# Probabilidad de que el proyecto se retrase\n",
    "p_retraso = df[\"Retraso\"].sum()\n",
    "print(f\"La probabilidad de que el proyecto se retrase es {p_retraso:.4f}\")\n",
    "\n",
    "# Probabilidad de que el retraso se deba a un riesgo climático\n",
    "p_climatico_dado_retraso = (\n",
    "    df.loc[df[\"Riesgo\"] == \"Climático\", \"Retraso\"].values[0] / p_retraso\n",
    ")\n",
    "print(\n",
    "    f\"La probabilidad de que el retraso se deba a un riesgo climático es {p_climatico_dado_retraso:.4f}\"\n",
    ")"
   ]
  }
 ],
 "metadata": {
  "kernelspec": {
   "display_name": "Python 3 (ipykernel)",
   "language": "python",
   "name": "python3"
  },
  "language_info": {
   "codemirror_mode": {
    "name": "ipython",
    "version": 3
   },
   "file_extension": ".py",
   "mimetype": "text/x-python",
   "name": "python",
   "nbconvert_exporter": "python",
   "pygments_lexer": "ipython3",
   "version": "3.10.13"
  }
 },
 "nbformat": 4,
 "nbformat_minor": 5
}
