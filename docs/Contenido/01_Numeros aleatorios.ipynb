{
 "cells": [
  {
   "cell_type": "markdown",
   "metadata": {
    "id": "pqrv9IVkMyaE"
   },
   "source": [
    "# **01_NÚMEROS, VECTORES Y MATRICES (PSEUDO)ALEATORIOS CON PYTHON.**"
   ]
  },
  {
   "cell_type": "code",
   "execution_count": null,
   "metadata": {
    "executionInfo": {
     "elapsed": 736,
     "status": "ok",
     "timestamp": 1727957850249,
     "user": {
      "displayName": "Manuel Gómez Navarrete",
      "userId": "07446321315690905532"
     },
     "user_tz": -120
    },
    "id": "a4uKj_aoMI94"
   },
   "outputs": [],
   "source": [
    "# Importamos el módulo\n",
    "import random"
   ]
  },
  {
   "cell_type": "markdown",
   "metadata": {
    "id": "vYUwz_qHNYCS"
   },
   "source": [
    "\n",
    "### **Generación de un número aleatorio (float) comprendido en el intervalo $[0.0,1.0)$ con la función `random`.**"
   ]
  },
  {
   "cell_type": "code",
   "execution_count": null,
   "metadata": {
    "colab": {
     "base_uri": "https://localhost:8080/"
    },
    "executionInfo": {
     "elapsed": 10,
     "status": "ok",
     "timestamp": 1727957850529,
     "user": {
      "displayName": "Manuel Gómez Navarrete",
      "userId": "07446321315690905532"
     },
     "user_tz": -120
    },
    "id": "e24p9-_ANXap",
    "outputId": "728780bf-2807-49cf-b085-71c06bdff018"
   },
   "outputs": [],
   "source": [
    "# Generamos 5 números aleatorios diferentes\n",
    "for _ in range(5):\n",
    "    print(random.random())"
   ]
  },
  {
   "cell_type": "code",
   "execution_count": null,
   "metadata": {
    "colab": {
     "base_uri": "https://localhost:8080/"
    },
    "executionInfo": {
     "elapsed": 8,
     "status": "ok",
     "timestamp": 1727957850529,
     "user": {
      "displayName": "Manuel Gómez Navarrete",
      "userId": "07446321315690905532"
     },
     "user_tz": -120
    },
    "id": "4UiU7PxoNSo3",
    "outputId": "e47ba4c2-bfa7-4599-a5ac-0307927fe5da"
   },
   "outputs": [],
   "source": [
    "# Generamos una lista de aleatorios repetida tres veces con la misma semilla\n",
    "for _ in range(3):\n",
    "    lista = []\n",
    "    semilla = 8\n",
    "    random.seed(semilla)\n",
    "    for _ in range(3):\n",
    "        lista.append(random.random())\n",
    "    print(lista)"
   ]
  },
  {
   "cell_type": "markdown",
   "metadata": {
    "id": "6wrxzKtKQXbJ"
   },
   "source": [
    "---\n",
    "## **Generación de un número aleatorio (float) comprendido entre dos números (ambos incluídos) con la función `uniform(a,b)`**"
   ]
  },
  {
   "cell_type": "code",
   "execution_count": null,
   "metadata": {
    "colab": {
     "base_uri": "https://localhost:8080/"
    },
    "executionInfo": {
     "elapsed": 6,
     "status": "ok",
     "timestamp": 1727957850529,
     "user": {
      "displayName": "Manuel Gómez Navarrete",
      "userId": "07446321315690905532"
     },
     "user_tz": -120
    },
    "id": "KdB8nM6RQgoM",
    "outputId": "9a9b2a6c-94a7-4024-c365-d58c18a06294"
   },
   "outputs": [],
   "source": [
    "import random\n",
    "\n",
    "aleatorio = random.uniform(3, 10)\n",
    "print(aleatorio)"
   ]
  },
  {
   "cell_type": "code",
   "execution_count": null,
   "metadata": {
    "colab": {
     "base_uri": "https://localhost:8080/"
    },
    "executionInfo": {
     "elapsed": 4,
     "status": "ok",
     "timestamp": 1727957850529,
     "user": {
      "displayName": "Manuel Gómez Navarrete",
      "userId": "07446321315690905532"
     },
     "user_tz": -120
    },
    "id": "H0tD_vToRGfy",
    "outputId": "c8a67ae8-940d-43ae-9b8d-dbb617ef7b79"
   },
   "outputs": [],
   "source": [
    "# Si fijamos la semilla\n",
    "for _ in range(3):\n",
    "    lista = []\n",
    "    semilla = 8\n",
    "    random.seed(semilla)\n",
    "    for _ in range(3):\n",
    "        lista.append(random.random())\n",
    "    print(lista)"
   ]
  },
  {
   "cell_type": "markdown",
   "metadata": {
    "id": "ixQKuOxXRo7H"
   },
   "source": [
    "#### **Aplicación: Generar una nube de puntos aleatoria en el dominio $[-100,100] \\times [-100,100]$ y representarla gráficamente.**"
   ]
  },
  {
   "cell_type": "code",
   "execution_count": null,
   "metadata": {
    "colab": {
     "base_uri": "https://localhost:8080/",
     "height": 448
    },
    "executionInfo": {
     "elapsed": 745,
     "status": "ok",
     "timestamp": 1727957851271,
     "user": {
      "displayName": "Manuel Gómez Navarrete",
      "userId": "07446321315690905532"
     },
     "user_tz": -120
    },
    "id": "0QQGJFGOSDPa",
    "outputId": "7a721331-1987-4de6-f053-e02e4ebba0fa"
   },
   "outputs": [],
   "source": [
    "import random\n",
    "import matplotlib.pyplot as plt\n",
    "\n",
    "# Definimos extremos de intervalo y número de puntos\n",
    "a = -100\n",
    "b = 100\n",
    "puntos = 500\n",
    "# Creamos las listas con los valores aleatorios\n",
    "x = [random.uniform(a, b) for _ in range(500)]\n",
    "y = [random.uniform(a, b) for _ in range(500)]\n",
    "# Dibujamos la nube de puntos\n",
    "plt.scatter(x, y)"
   ]
  },
  {
   "cell_type": "markdown",
   "metadata": {
    "id": "feKVVgnlS-dI"
   },
   "source": [
    "### **Generar un número aleatorio entero (int) con la función `randint(a,b)`.**"
   ]
  },
  {
   "cell_type": "code",
   "execution_count": null,
   "metadata": {
    "colab": {
     "base_uri": "https://localhost:8080/"
    },
    "executionInfo": {
     "elapsed": 10,
     "status": "ok",
     "timestamp": 1727957851272,
     "user": {
      "displayName": "Manuel Gómez Navarrete",
      "userId": "07446321315690905532"
     },
     "user_tz": -120
    },
    "id": "rB5RSAahTURI",
    "outputId": "5d15567b-120b-4865-ffd5-cf418df7f71f"
   },
   "outputs": [],
   "source": [
    "# Generamos un número aleatorio con randint(a,b), ambos inclusive.\n",
    "import random\n",
    "\n",
    "x = random.randint(1, 6)\n",
    "print(x)"
   ]
  },
  {
   "cell_type": "markdown",
   "metadata": {
    "id": "5k4qKRo0TxAZ"
   },
   "source": [
    "#### ***Aplicación*: Generar una secuencia de 10 lanzamientos de un dado normal.**"
   ]
  },
  {
   "cell_type": "code",
   "execution_count": null,
   "metadata": {
    "colab": {
     "base_uri": "https://localhost:8080/"
    },
    "executionInfo": {
     "elapsed": 8,
     "status": "ok",
     "timestamp": 1727957851272,
     "user": {
      "displayName": "Manuel Gómez Navarrete",
      "userId": "07446321315690905532"
     },
     "user_tz": -120
    },
    "id": "NA90cNcfTrLx",
    "outputId": "f367bfc4-3580-45fb-ba7e-fe0f7bcaf3cb"
   },
   "outputs": [],
   "source": [
    "import random\n",
    "\n",
    "resultados = []\n",
    "for _ in range(10):\n",
    "    resultados.append(random.randint(1, 6))\n",
    "print(resultados)"
   ]
  },
  {
   "cell_type": "markdown",
   "metadata": {
    "id": "ATqqEaptWNnL"
   },
   "source": [
    "### **Genera aleatorios enteros en un rango de valores separados entre sí con un salto con la función `randrange(a,b,salto)`**\n",
    "\n",
    "Por ejemplo, `randrange(2,10,3)` devolverá un valor de entre los siguientes posibles {2,5,8}."
   ]
  },
  {
   "cell_type": "code",
   "execution_count": null,
   "metadata": {
    "colab": {
     "base_uri": "https://localhost:8080/"
    },
    "executionInfo": {
     "elapsed": 6,
     "status": "ok",
     "timestamp": 1727957851272,
     "user": {
      "displayName": "Manuel Gómez Navarrete",
      "userId": "07446321315690905532"
     },
     "user_tz": -120
    },
    "id": "wulVokkvWbrP",
    "outputId": "732e8155-7ea0-4ba4-ea21-9e1a847fb34e"
   },
   "outputs": [],
   "source": [
    "import random\n",
    "\n",
    "print(random.randrange(2, 10, 3))"
   ]
  },
  {
   "cell_type": "markdown",
   "metadata": {
    "id": "Ar00b9auXIuR"
   },
   "source": [
    "\n",
    "Hemos visto cómo generar números aleatorios con el módulo `random`. Ahora veremos que es posible extraer de forma aleatoria elementos de una lista.\n",
    "\n",
    "### **Extrae un elemento aleatorio de una lista o secuencia con la función `choice`.**"
   ]
  },
  {
   "cell_type": "code",
   "execution_count": null,
   "metadata": {
    "colab": {
     "base_uri": "https://localhost:8080/"
    },
    "executionInfo": {
     "elapsed": 613,
     "status": "ok",
     "timestamp": 1727957851881,
     "user": {
      "displayName": "Manuel Gómez Navarrete",
      "userId": "07446321315690905532"
     },
     "user_tz": -120
    },
    "id": "HdYVo66qXIMe",
    "outputId": "2862695a-365b-426a-c39e-af2b86d34624"
   },
   "outputs": [],
   "source": [
    "import random\n",
    "\n",
    "nombres = [\"Juan\", \"Pedro\", \"Luisa\", \"María\", \"Noelia\"]\n",
    "for _ in range(3):\n",
    "    print(random.choice(nombres))"
   ]
  },
  {
   "cell_type": "code",
   "execution_count": null,
   "metadata": {
    "colab": {
     "base_uri": "https://localhost:8080/"
    },
    "executionInfo": {
     "elapsed": 18,
     "status": "ok",
     "timestamp": 1727957851881,
     "user": {
      "displayName": "Manuel Gómez Navarrete",
      "userId": "07446321315690905532"
     },
     "user_tz": -120
    },
    "id": "n1jf5DFlYKCx",
    "outputId": "7f4430ce-d9d0-4a01-8c3b-114867700458"
   },
   "outputs": [],
   "source": [
    "# Si es una tupla\n",
    "import random\n",
    "\n",
    "tupla = (5, 3, 4, 6, 1)\n",
    "print(random.choice(tupla))"
   ]
  },
  {
   "cell_type": "code",
   "execution_count": null,
   "metadata": {
    "colab": {
     "base_uri": "https://localhost:8080/"
    },
    "executionInfo": {
     "elapsed": 17,
     "status": "ok",
     "timestamp": 1727957851881,
     "user": {
      "displayName": "Manuel Gómez Navarrete",
      "userId": "07446321315690905532"
     },
     "user_tz": -120
    },
    "id": "bwQNPE9dYVxS",
    "outputId": "9eef9e71-2339-459c-e701-c693fd87da07"
   },
   "outputs": [],
   "source": [
    "# En el caso de una cadena (string)\n",
    "import random\n",
    "\n",
    "palabra = \"HOLA\"\n",
    "print(random.choice(palabra))"
   ]
  },
  {
   "cell_type": "markdown",
   "metadata": {
    "id": "3hGqxLGnYEXr"
   },
   "source": [
    "### **\"Baraja\" los elementos de una lista o secuencia con `shuffle()`.**"
   ]
  },
  {
   "cell_type": "code",
   "execution_count": null,
   "metadata": {
    "colab": {
     "base_uri": "https://localhost:8080/"
    },
    "executionInfo": {
     "elapsed": 15,
     "status": "ok",
     "timestamp": 1727957851881,
     "user": {
      "displayName": "Manuel Gómez Navarrete",
      "userId": "07446321315690905532"
     },
     "user_tz": -120
    },
    "id": "CjG4ZU7qYvfb",
    "outputId": "aa162100-a9ef-4af3-99fe-0ce4586300a3"
   },
   "outputs": [],
   "source": [
    "import random\n",
    "\n",
    "baraja = [1, 2, 3, 4, 5, 6]\n",
    "for _ in range(3):\n",
    "    random.shuffle(baraja)\n",
    "    print(baraja)"
   ]
  },
  {
   "cell_type": "markdown",
   "metadata": {
    "id": "Bpk7jWH-ZvEq"
   },
   "source": [
    "### **Devuelve un número determinado de elementos aleatorios de una secuencia con `sample()`.**"
   ]
  },
  {
   "cell_type": "code",
   "execution_count": null,
   "metadata": {
    "colab": {
     "base_uri": "https://localhost:8080/"
    },
    "executionInfo": {
     "elapsed": 14,
     "status": "ok",
     "timestamp": 1727957851881,
     "user": {
      "displayName": "Manuel Gómez Navarrete",
      "userId": "07446321315690905532"
     },
     "user_tz": -120
    },
    "id": "jOwrlwMLZf4E",
    "outputId": "d8bbdc97-a224-4538-ebcc-dbd5638d3379"
   },
   "outputs": [],
   "source": [
    "import random\n",
    "\n",
    "numeros = [1, 2, 3, 4, 5, 6, 7, 8, 9, 10, 11, 12]\n",
    "# Devuelve cuatro elementos de forma aleatoria\n",
    "random.sample(numeros, 4)"
   ]
  },
  {
   "cell_type": "markdown",
   "metadata": {
    "id": "h7mwhAhsfeHe"
   },
   "source": [
    "## **Generación de aleatoriedad con Numpy.**"
   ]
  },
  {
   "cell_type": "markdown",
   "metadata": {
    "id": "T9shF7iegEJ8"
   },
   "source": [
    "### **Generar un array del tamaño indicado conteniendo números aleatorios extraídos del intervalo $[0,1]$ a partir de una distribución uniforme.**"
   ]
  },
  {
   "cell_type": "code",
   "execution_count": null,
   "metadata": {
    "colab": {
     "base_uri": "https://localhost:8080/"
    },
    "executionInfo": {
     "elapsed": 14,
     "status": "ok",
     "timestamp": 1727957851882,
     "user": {
      "displayName": "Manuel Gómez Navarrete",
      "userId": "07446321315690905532"
     },
     "user_tz": -120
    },
    "id": "CTNWjyrpgT3a",
    "outputId": "46549f61-ad9c-4be3-f0db-08a2cfa752ff"
   },
   "outputs": [],
   "source": [
    "import numpy as np\n",
    "\n",
    "# Genera un vector de 5 componentes\n",
    "array = np.random.rand(5)\n",
    "array"
   ]
  },
  {
   "cell_type": "code",
   "execution_count": null,
   "metadata": {
    "colab": {
     "base_uri": "https://localhost:8080/"
    },
    "executionInfo": {
     "elapsed": 13,
     "status": "ok",
     "timestamp": 1727957851882,
     "user": {
      "displayName": "Manuel Gómez Navarrete",
      "userId": "07446321315690905532"
     },
     "user_tz": -120
    },
    "id": "6l1ml0oo6t6H",
    "outputId": "d5c92f5d-2427-4d64-e347-16bea39b4b15"
   },
   "outputs": [],
   "source": [
    "# Genera una matriz 3x2 con valores uniformemente distribuidos\n",
    "matriz = np.random.rand(3, 2)\n",
    "matriz"
   ]
  },
  {
   "cell_type": "code",
   "execution_count": null,
   "metadata": {
    "colab": {
     "base_uri": "https://localhost:8080/"
    },
    "executionInfo": {
     "elapsed": 12,
     "status": "ok",
     "timestamp": 1727957851882,
     "user": {
      "displayName": "Manuel Gómez Navarrete",
      "userId": "07446321315690905532"
     },
     "user_tz": -120
    },
    "id": "PrttH0nqgcjS",
    "outputId": "74df1e8b-755f-41a3-aab5-88ec1bc17ebf"
   },
   "outputs": [],
   "source": [
    "array = np.random.uniform(1, 5, size=5)\n",
    "array"
   ]
  },
  {
   "cell_type": "code",
   "execution_count": null,
   "metadata": {
    "colab": {
     "base_uri": "https://localhost:8080/"
    },
    "executionInfo": {
     "elapsed": 11,
     "status": "ok",
     "timestamp": 1727957851882,
     "user": {
      "displayName": "Manuel Gómez Navarrete",
      "userId": "07446321315690905532"
     },
     "user_tz": -120
    },
    "id": "MStzsRqSgj8m",
    "outputId": "7bc4c432-f899-4945-b928-ad126f90d27c"
   },
   "outputs": [],
   "source": [
    "# Para una matriz el tamaño se pasa con una tupla\n",
    "matriz = np.random.uniform(1, 5, size=(2, 3))\n",
    "matriz"
   ]
  },
  {
   "cell_type": "markdown",
   "metadata": {
    "id": "8VuvwxRx721Y"
   },
   "source": [
    "### **Generar un array del tamaño indicado conteniendo números aleatorios según una distribución normal de media 0 y desviación típica 1.**"
   ]
  },
  {
   "cell_type": "code",
   "execution_count": null,
   "metadata": {
    "colab": {
     "base_uri": "https://localhost:8080/"
    },
    "executionInfo": {
     "elapsed": 9,
     "status": "ok",
     "timestamp": 1727957851882,
     "user": {
      "displayName": "Manuel Gómez Navarrete",
      "userId": "07446321315690905532"
     },
     "user_tz": -120
    },
    "id": "Yrjsril37jXB",
    "outputId": "7e1a4320-681c-4f93-c59b-979146e8deba"
   },
   "outputs": [],
   "source": [
    "# Genera una muestra de tamaño 10 de una Normal(0,1)\n",
    "normales = np.random.randn(10)\n",
    "normales"
   ]
  },
  {
   "cell_type": "code",
   "execution_count": null,
   "metadata": {
    "colab": {
     "base_uri": "https://localhost:8080/"
    },
    "executionInfo": {
     "elapsed": 7,
     "status": "ok",
     "timestamp": 1727957851882,
     "user": {
      "displayName": "Manuel Gómez Navarrete",
      "userId": "07446321315690905532"
     },
     "user_tz": -120
    },
    "id": "qqaNAwjv8P4q",
    "outputId": "e3fdab2d-d933-4566-e44a-c8391debb1a4"
   },
   "outputs": [],
   "source": [
    "# Si queremos valores Normal(5,2), entonces\n",
    "mu = 5\n",
    "sigma = 2\n",
    "normales52 = mu + sigma * normales\n",
    "normales52"
   ]
  },
  {
   "cell_type": "markdown",
   "metadata": {
    "id": "S4rWuv0-9mlP"
   },
   "source": [
    "#### ***Aplicación*: Generar 10_000 valores normales y dibujar el histograma**"
   ]
  },
  {
   "cell_type": "code",
   "execution_count": null,
   "metadata": {
    "colab": {
     "base_uri": "https://localhost:8080/",
     "height": 539
    },
    "executionInfo": {
     "elapsed": 337,
     "status": "ok",
     "timestamp": 1727957852213,
     "user": {
      "displayName": "Manuel Gómez Navarrete",
      "userId": "07446321315690905532"
     },
     "user_tz": -120
    },
    "id": "uRgvJfdR9HQ3",
    "outputId": "14a914c6-0aa3-4b3e-e1dc-cdc7a53c2767"
   },
   "outputs": [],
   "source": [
    "# Creamos el array con los valores\n",
    "valores = np.random.randn(10_000)\n",
    "# Importamos matplotlib y dibujamos el histograma\n",
    "import matplotlib.pyplot as plt\n",
    "\n",
    "fig, ax = plt.subplots()\n",
    "ax.hist(valores)"
   ]
  },
  {
   "cell_type": "markdown",
   "metadata": {
    "id": "AXbn5PjE_PuJ"
   },
   "source": [
    "### **Generar un array del tamaño indicado conteniendo números aleatorios enteros.**"
   ]
  },
  {
   "cell_type": "code",
   "execution_count": null,
   "metadata": {
    "colab": {
     "base_uri": "https://localhost:8080/"
    },
    "executionInfo": {
     "elapsed": 22,
     "status": "ok",
     "timestamp": 1727957852213,
     "user": {
      "displayName": "Manuel Gómez Navarrete",
      "userId": "07446321315690905532"
     },
     "user_tz": -120
    },
    "id": "FeFTQhRI_UDW",
    "outputId": "b31aa9b5-0270-4334-905e-2286a124f8f8"
   },
   "outputs": [],
   "source": [
    "# Genera 10 números aleatorios enteros entre 1 y 200\n",
    "numeros = np.random.randint(1, 200, size=10)\n",
    "numeros"
   ]
  },
  {
   "cell_type": "code",
   "execution_count": null,
   "metadata": {
    "colab": {
     "base_uri": "https://localhost:8080/"
    },
    "executionInfo": {
     "elapsed": 19,
     "status": "ok",
     "timestamp": 1727957852213,
     "user": {
      "displayName": "Manuel Gómez Navarrete",
      "userId": "07446321315690905532"
     },
     "user_tz": -120
    },
    "id": "sMknIF7A_8Su",
    "outputId": "85b87ece-ab98-4aaf-979c-b80e98195151"
   },
   "outputs": [],
   "source": [
    "# Si queremos una matriz\n",
    "matriz_enteros = np.random.randint(1, 200, size=(2, 4))\n",
    "matriz_enteros"
   ]
  },
  {
   "cell_type": "markdown",
   "metadata": {
    "id": "l8ijoDBtBvSo"
   },
   "source": [
    "### **Selección aleatoria de elementos de un array.**"
   ]
  },
  {
   "cell_type": "code",
   "execution_count": null,
   "metadata": {
    "colab": {
     "base_uri": "https://localhost:8080/"
    },
    "executionInfo": {
     "elapsed": 17,
     "status": "ok",
     "timestamp": 1727957852213,
     "user": {
      "displayName": "Manuel Gómez Navarrete",
      "userId": "07446321315690905532"
     },
     "user_tz": -120
    },
    "id": "QGsCuDl1BF_k",
    "outputId": "7f1398be-0fc1-4f40-c462-10c155493d60"
   },
   "outputs": [],
   "source": [
    "# Creamos la lista y obtenemos una muestra distinta cada vez que ejecutemos la celda\n",
    "lista = np.array([1, 2, 3, 4, 5, 6, 7, 8, 9, 10])\n",
    "muestra = np.random.choice(lista, size=4)\n",
    "muestra"
   ]
  },
  {
   "cell_type": "code",
   "execution_count": null,
   "metadata": {
    "colab": {
     "base_uri": "https://localhost:8080/"
    },
    "executionInfo": {
     "elapsed": 15,
     "status": "ok",
     "timestamp": 1727957852213,
     "user": {
      "displayName": "Manuel Gómez Navarrete",
      "userId": "07446321315690905532"
     },
     "user_tz": -120
    },
    "id": "AZ86cgjDDZci",
    "outputId": "f1c52d43-dea2-40d7-9a41-aeb5ff7ae6fb"
   },
   "outputs": [],
   "source": [
    "# Si no queremos repetición\n",
    "muestra2 = np.random.choice(lista, replace=False, size=4)\n",
    "muestra2"
   ]
  },
  {
   "cell_type": "markdown",
   "metadata": {
    "id": "Amu5KZ4SDz9P"
   },
   "source": [
    "#### ***Aplicación*: Simulación de 10 lanzamientos de una moneda trucada donde la probabilidad de obtener cara es 0.8.**"
   ]
  },
  {
   "cell_type": "code",
   "execution_count": null,
   "metadata": {
    "executionInfo": {
     "elapsed": 14,
     "status": "ok",
     "timestamp": 1727957852213,
     "user": {
      "displayName": "Manuel Gómez Navarrete",
      "userId": "07446321315690905532"
     },
     "user_tz": -120
    },
    "id": "uCvWrMrLD9Xg"
   },
   "outputs": [],
   "source": [
    "# 0 es cara y 1 es cruz\n",
    "resultados = np.array([0, 1])\n",
    "lanzamientos = np.random.choice(resultados, size=10, p=[0.8, 0.2])"
   ]
  },
  {
   "cell_type": "code",
   "execution_count": null,
   "metadata": {
    "colab": {
     "base_uri": "https://localhost:8080/"
    },
    "executionInfo": {
     "elapsed": 13,
     "status": "ok",
     "timestamp": 1727957852213,
     "user": {
      "displayName": "Manuel Gómez Navarrete",
      "userId": "07446321315690905532"
     },
     "user_tz": -120
    },
    "id": "dQ7xoipVDv3R",
    "outputId": "e03061e9-b880-4097-d545-3da093ffb285"
   },
   "outputs": [],
   "source": [
    "lanzamientos"
   ]
  },
  {
   "cell_type": "markdown",
   "metadata": {
    "id": "wpbp45RTE_Oo"
   },
   "source": [
    "### **Permutar los elementos de un array**"
   ]
  },
  {
   "cell_type": "code",
   "execution_count": null,
   "metadata": {
    "colab": {
     "base_uri": "https://localhost:8080/"
    },
    "executionInfo": {
     "elapsed": 12,
     "status": "ok",
     "timestamp": 1727957852213,
     "user": {
      "displayName": "Manuel Gómez Navarrete",
      "userId": "07446321315690905532"
     },
     "user_tz": -120
    },
    "id": "WJcgNyHCFEe-",
    "outputId": "43969875-9c72-416b-85fa-4fd30c2e7996"
   },
   "outputs": [],
   "source": [
    "# Creamos el array\n",
    "arr = np.arange(10)\n",
    "arr"
   ]
  },
  {
   "cell_type": "code",
   "execution_count": null,
   "metadata": {
    "colab": {
     "base_uri": "https://localhost:8080/"
    },
    "executionInfo": {
     "elapsed": 10,
     "status": "ok",
     "timestamp": 1727957852213,
     "user": {
      "displayName": "Manuel Gómez Navarrete",
      "userId": "07446321315690905532"
     },
     "user_tz": -120
    },
    "id": "1-3Bvg4mFnzE",
    "outputId": "5744dc5e-627a-400d-a64e-1d84006a8a1b"
   },
   "outputs": [],
   "source": [
    "# Con permutation\n",
    "arr_per = np.random.permutation(arr)\n",
    "print(arr)\n",
    "print(arr_per)\n",
    "# Se mantiene el array original"
   ]
  },
  {
   "cell_type": "code",
   "execution_count": null,
   "metadata": {
    "colab": {
     "base_uri": "https://localhost:8080/"
    },
    "executionInfo": {
     "elapsed": 10,
     "status": "ok",
     "timestamp": 1727957852214,
     "user": {
      "displayName": "Manuel Gómez Navarrete",
      "userId": "07446321315690905532"
     },
     "user_tz": -120
    },
    "id": "8eIVJRmVE-xg",
    "outputId": "9e92ca43-6689-4e27-8e04-f866a9a44d1e"
   },
   "outputs": [],
   "source": [
    "# Con shuffle\n",
    "arr = np.arange(10)\n",
    "arr_shu = np.random.shuffle(arr)\n",
    "print(arr)\n",
    "print(arr_shu)\n",
    "# Se pierde el array original"
   ]
  }
 ],
 "metadata": {
  "colab": {
   "authorship_tag": "ABX9TyNtMTB9RyT3iIaFjJinVs9v",
   "provenance": []
  },
  "kernelspec": {
   "display_name": "Python 3 (ipykernel)",
   "language": "python",
   "name": "python3"
  },
  "language_info": {
   "codemirror_mode": {
    "name": "ipython",
    "version": 3
   },
   "file_extension": ".py",
   "mimetype": "text/x-python",
   "name": "python",
   "nbconvert_exporter": "python",
   "pygments_lexer": "ipython3",
   "version": "3.10.13"
  }
 },
 "nbformat": 4,
 "nbformat_minor": 4
}
