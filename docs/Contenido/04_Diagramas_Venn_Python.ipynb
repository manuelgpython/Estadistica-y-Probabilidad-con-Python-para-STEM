{
 "cells": [
  {
   "cell_type": "markdown",
   "id": "9dce463b-1765-44d6-b50b-ce90be7847a8",
   "metadata": {},
   "source": [
    "# 4_DIAGRAMAS DE VENN CON PYTHON\n",
    "$$A={(x,y)\\in \\mathbb{R}^2 / (x+2)^2+y^2 \\leq 9}$$\n",
    "$$B={(x,y)\\in \\mathbb{R}^2 / (x-2)^2+y^2 \\leq 9}$$"
   ]
  },
  {
   "cell_type": "code",
   "execution_count": null,
   "id": "89288121-0102-48c3-ae42-466e7028c5dd",
   "metadata": {},
   "outputs": [],
   "source": [
    "# Importamos las librerías\n",
    "import numpy as np\n",
    "import matplotlib.pyplot as plt\n",
    "import random\n",
    "\n",
    "# Parámetro t: 1000 puntos equiespaciados en el intervalo [0,2pi]\n",
    "t = np.linspace(0, 2 * np.pi, 1000)\n",
    "\n",
    "# Circunferencia conjunto A\n",
    "A_x = -2 + 3 * np.cos(t)\n",
    "A_y = 3 * np.sin(t)\n",
    "\n",
    "# Circunferencia conjunto B\n",
    "B_x = 2 + 3 * np.cos(t)\n",
    "B_y = 3 * np.sin(t)\n",
    "\n",
    "# Graficamos\n",
    "plt.figure(figsize=(4.8, 2.8))\n",
    "plt.plot(A_x, A_y, \"k-\", linewidth=3)\n",
    "plt.plot(B_x, B_y, \"k-\", linewidth=3)\n",
    "\n",
    "# Quitamos los ejes y dibujamos\n",
    "plt.gca().set_axis_off()\n",
    "plt.text(-4.5, 2.5, \"A\", size=12)\n",
    "plt.text(4.5, 2.5, \"B\", size=12)\n",
    "plt.show()"
   ]
  },
  {
   "cell_type": "code",
   "execution_count": null,
   "id": "fd5b02c1-5b11-4ac9-8e90-c1bb90a3bed8",
   "metadata": {},
   "outputs": [],
   "source": [
    "# Agrupamos este código en una función\n",
    "def plot_set(points_x, points_y, text, sizefig=(4.8, 2.8)):\n",
    "    t = np.linspace(0, 2 * np.pi, 1000)\n",
    "\n",
    "    # Circunferencia conjunto A\n",
    "    A_x = -2 + 3 * np.cos(t)\n",
    "    A_y = 3 * np.sin(t)\n",
    "\n",
    "    # Circunferencia conjunto B\n",
    "    B_x = 2 + 3 * np.cos(t)\n",
    "    B_y = 3 * np.sin(t)\n",
    "\n",
    "    # Graficamos\n",
    "    plt.figure(figsize=sizefig)\n",
    "    plt.plot(A_x, A_y, \"k-\", linewidth=3)\n",
    "    plt.plot(B_x, B_y, \"k-\", linewidth=3)\n",
    "\n",
    "    # Quitamos los ejes y dibujamos\n",
    "    plt.gca().set_axis_off()\n",
    "    plt.text(-4.5, 2.5, \"A\", size=12)\n",
    "    plt.text(4.5, 2.5, \"B\", size=12)\n",
    "    plt.title(text, size=15)\n",
    "    plt.plot(points_x, points_y, \"o\", markersize=0.7)\n",
    "\n",
    "    return plt.show()"
   ]
  },
  {
   "cell_type": "code",
   "execution_count": null,
   "id": "896e804e-5e5c-43c5-90f6-bf098e131e31",
   "metadata": {},
   "outputs": [],
   "source": [
    "\"\"\"Generamos los números aleatorios uniformes y aplicamos la transformación lineal correspondiente\n",
    "para que estén en el cuadrante [-5,5]x[-5,5]\"\"\"\n",
    "\n",
    "x = -5 + 10 * np.random.rand(1000000)\n",
    "y = -5 + 10 * np.random.rand(1000000)"
   ]
  },
  {
   "cell_type": "code",
   "execution_count": null,
   "id": "57c1877f-a043-4831-96fd-08cfbbf9171a",
   "metadata": {},
   "outputs": [],
   "source": [
    "# Conjunto A: definición y gráfica\n",
    "Ax = x[(x + 2) ** 2 + y**2 <= 9]\n",
    "Ay = y[(x + 2) ** 2 + y**2 <= 9]\n",
    "\n",
    "plot_set(Ax, Ay, \"Set A\")"
   ]
  },
  {
   "cell_type": "code",
   "execution_count": null,
   "id": "611353ba-2bd2-4e47-a693-9e269b456e9f",
   "metadata": {},
   "outputs": [],
   "source": [
    "# Conjunto B\n",
    "Bx = x[(x - 2) ** 2 + y**2 <= 9]\n",
    "By = y[(x - 2) ** 2 + y**2 <= 9]\n",
    "\n",
    "plot_set(Bx, By, \"Set B\")"
   ]
  },
  {
   "cell_type": "code",
   "execution_count": null,
   "id": "61673153-44e2-433b-ad6f-bb7d97b13dc1",
   "metadata": {},
   "outputs": [],
   "source": [
    "# Unión de A y B\n",
    "A_or_B_x = x[((x + 2) ** 2 + y**2 <= 9) | ((x - 2) ** 2 + y**2 <= 9)]\n",
    "A_or_B_y = y[((x + 2) ** 2 + y**2 <= 9) | ((x - 2) ** 2 + y**2 <= 9)]\n",
    "\n",
    "plot_set(A_or_B_x, A_or_B_y, \"$A \\cup B$\")"
   ]
  },
  {
   "cell_type": "code",
   "execution_count": null,
   "id": "78ef4ffe-6a26-4fa2-b724-1fec2638f58d",
   "metadata": {},
   "outputs": [],
   "source": [
    "# Intersección de A y B\n",
    "A_and_B_x = x[((x + 2) ** 2 + y**2 <= 9) & ((x - 2) ** 2 + y**2 <= 9)]\n",
    "A_and_B_y = y[((x + 2) ** 2 + y**2 <= 9) & ((x - 2) ** 2 + y**2 <= 9)]\n",
    "\n",
    "plot_set(A_and_B_x, A_and_B_y, \"$A\\cap B$\")"
   ]
  },
  {
   "cell_type": "code",
   "execution_count": null,
   "id": "938b50e8-6d0a-4097-9fef-27fbc81157cf",
   "metadata": {},
   "outputs": [],
   "source": [
    "# Diferencia A - B\n",
    "A_and_not_B_x = x[((x + 2) ** 2 + y**2 <= 9) & ((x - 2) ** 2 + y**2 >= 9)]\n",
    "A_and_not_B_y = y[((x + 2) ** 2 + y**2 <= 9) & ((x - 2) ** 2 + y**2 >= 9)]\n",
    "\n",
    "plot_set(A_and_not_B_x, A_and_not_B_y, \"$A\\cap \\overline{B}$\")"
   ]
  },
  {
   "cell_type": "code",
   "execution_count": null,
   "id": "f7f2feed-486f-4bd9-8456-d8e9eb1257f3",
   "metadata": {},
   "outputs": [],
   "source": [
    "# Diferencia B - A\n",
    "not_A_and_B_x = x[((x + 2) ** 2 + y**2 >= 9) & ((x - 2) ** 2 + y**2 <= 9)]\n",
    "not_A_and_B_y = y[((x + 2) ** 2 + y**2 >= 9) & ((x - 2) ** 2 + y**2 <= 9)]\n",
    "\n",
    "plot_set(not_A_and_B_x, not_A_and_B_y, \"$\\overline{A}\\cap B$\")"
   ]
  },
  {
   "cell_type": "code",
   "execution_count": null,
   "id": "d2e3c2b7-ddbd-463f-870a-3cc478175a94",
   "metadata": {},
   "outputs": [],
   "source": [
    "# Lo que no es ni de A ni de B\n",
    "not_A_and_not_B_x = x[((x + 2) ** 2 + y**2 >= 9) & ((x - 2) ** 2 + y**2 >= 9)]\n",
    "not_A_and_not_B_y = y[((x + 2) ** 2 + y**2 >= 9) & ((x - 2) ** 2 + y**2 >= 9)]\n",
    "\n",
    "plot_set(\n",
    "    not_A_and_not_B_x, not_A_and_not_B_y, \"$\\overline{A}\\cap \\overline{B}$\", (5, 5)\n",
    ")"
   ]
  }
 ],
 "metadata": {
  "kernelspec": {
   "display_name": "Python 3 (ipykernel)",
   "language": "python",
   "name": "python3"
  },
  "language_info": {
   "codemirror_mode": {
    "name": "ipython",
    "version": 3
   },
   "file_extension": ".py",
   "mimetype": "text/x-python",
   "name": "python",
   "nbconvert_exporter": "python",
   "pygments_lexer": "ipython3",
   "version": "3.10.13"
  }
 },
 "nbformat": 4,
 "nbformat_minor": 5
}
