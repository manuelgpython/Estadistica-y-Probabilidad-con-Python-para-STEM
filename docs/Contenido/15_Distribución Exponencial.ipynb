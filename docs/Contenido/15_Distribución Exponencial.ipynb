{
 "cells": [
  {
   "cell_type": "markdown",
   "id": "196e9337-27e5-4053-adc3-71315fb8dc74",
   "metadata": {},
   "source": [
    "# 15_DISTRIBUCIÓN EXPONENCIAL"
   ]
  },
  {
   "cell_type": "code",
   "execution_count": null,
   "id": "ef98b6aa-71f4-4cf6-a47a-28665bb5245b",
   "metadata": {},
   "outputs": [],
   "source": [
    "# Importamos los paquetes\n",
    "import numpy as np\n",
    "import seaborn as sns\n",
    "import matplotlib.pyplot as plt\n",
    "\n",
    "# Definimos los parámetros lambda para las distribuciones que queremos representar\n",
    "lambdas = [0.5, 1, 2, 3]\n",
    "\n",
    "# Graficamos las funciones de densidad teóricas para estos parámetros\n",
    "plt.figure(figsize=(6, 4))\n",
    "x = np.linspace(0, 5, 10000)\n",
    "for lamb in lambdas:  # Un curva para cada lambda\n",
    "    plt.plot(x, lamb * np.exp(-lamb * x), label=f\"$\\lambda$ = {lamb}\")\n",
    "\n",
    "# Mejoramos el gráfico\n",
    "plt.xlabel(\"Valor\")\n",
    "plt.xlim([0, 5])\n",
    "plt.ylabel(\"Densidad  de Probabilidad\")\n",
    "plt.title(\"Densidad de Distribuciones Exponenciales Teóricas\")\n",
    "plt.legend()\n",
    "plt.show"
   ]
  },
  {
   "cell_type": "markdown",
   "id": "dd310b37-5ed4-4a98-82ff-7b615d091376",
   "metadata": {},
   "source": [
    "### Ingeniería de Fiabilidad"
   ]
  },
  {
   "cell_type": "code",
   "execution_count": null,
   "id": "4f2c89d7-5abf-443d-a410-c39aa28549f6",
   "metadata": {},
   "outputs": [],
   "source": [
    "import numpy as np\n",
    "from scipy.stats import expon\n",
    "import matplotlib.pyplot as plt\n",
    "\n",
    "# Graficamos la función de densidad\n",
    "print(\"Ejemplo en Ingeniería de Fiabilidad\")\n",
    "plt.figure(figsize=(6, 4))\n",
    "x = np.linspace(0, 10, 100)\n",
    "\n",
    "# expon.pdf devuelve los valores de la función de densidad para cada valor del array x\n",
    "plt.plot(x, expon.pdf(x, scale=1 / 0.5), \"r-\", linewidth=2, label=\"$\\lambda = 0.5$\")\n",
    "plt.xlabel(\"Tiempo de Vida (años)\")\n",
    "plt.ylabel(\"Densidad de Probabilidad\")\n",
    "plt.title(\"Densidad de $Exp(0.5)$\")\n",
    "plt.legend()\n",
    "plt.show()"
   ]
  },
  {
   "cell_type": "code",
   "execution_count": null,
   "id": "6cd3a75c-5ae1-4ca4-b74a-08d4cb07074a",
   "metadata": {},
   "outputs": [],
   "source": [
    "prob_mas_2_anos = 1 - expon.cdf(\n",
    "    2, scale=1 / 0.5\n",
    ")  # expon.cdf devuelve la probabilidad acumulada de menos de 2, la integral\n",
    "print(\n",
    "    f\"La probabilidad de que un componente tenga un tiempo de vida mayor a 2 años es: {prob_mayor_2_anos:.4f}\"\n",
    ")"
   ]
  },
  {
   "cell_type": "code",
   "execution_count": null,
   "id": "aafc3f19-e344-4b54-86c3-805a78483042",
   "metadata": {},
   "outputs": [],
   "source": [
    "# Gráfica de la función de densidad y el área de la probabilidad\n",
    "plt.figure(figsize=(6, 4))\n",
    "x = np.linspace(0, 10, 100)\n",
    "\n",
    "# expon.pdf devuelve el valor de la función de densidad\n",
    "plt.plot(x, expon.pdf(x, scale=1 / 0.5), \"r-\", linewidth=2, label=\"$Exp(0.5)$\")\n",
    "plt.fill_between(\n",
    "    x[x >= 2],\n",
    "    expon.pdf(x[x >= 2], scale=1 / 0.5),\n",
    "    alpha=0.6,\n",
    "    label=\"Área de Probabilidad\",\n",
    ")\n",
    "plt.xlabel(\"Tiempo de Vida (años)\")\n",
    "plt.ylabel(\"Densidad de Probabilidad\")\n",
    "plt.title(\"Densidad de $Exp(0.5)$ y $P[X>2]$\")\n",
    "plt.legend()\n",
    "plt.show()"
   ]
  },
  {
   "cell_type": "code",
   "execution_count": null,
   "id": "c010ce62-1781-4ef6-9bec-ee4519fda8a4",
   "metadata": {},
   "outputs": [],
   "source": [
    "# Calculamos la probabilidad\n",
    "prob_entre_1_3_anos = expon.cdf(3, scale=1 / 0.5) - expon.cdf(1, scale=1 / 0.5)\n",
    "print(\n",
    "    f\"La probabilidad de que un componente tenga un tiempo de vida entre 1 y 3 años es: {prob_entre_1_3_anos:.4f}\"\n",
    ")\n",
    "print()\n",
    "# Dibujamos la función de densidad\n",
    "plt.plot(x, expon.pdf(x, scale=1 / 0.5), \"r-\", linewidth=2, label=\"$Exp(0.5)$\")\n",
    "\n",
    "# Definimos el intervalo\n",
    "x_1_3 = x[(1 <= x) & (x <= 3)]\n",
    "\n",
    "# Graficamos el área\n",
    "plt.fill_between(\n",
    "    x1, expon.pdf(x1, scale=1 / 0.5), alpha=0.6, label=\"Área de Probabilidad\"\n",
    ")\n",
    "plt.xlabel(\"Tiempo de Vida (años)\")\n",
    "plt.xticks(ticks=range(11))  # Añadimos ticks en el eje OX\n",
    "plt.ylabel(\"Densidad de Probabilidad\")\n",
    "plt.title(\"Densidad de $Exp(0.5)$ y $P[1\\leq X\\leq 3]$\")\n",
    "plt.legend()\n",
    "plt.show()"
   ]
  },
  {
   "cell_type": "markdown",
   "id": "c5418a26-7ba4-4381-bfb9-b826ab5f80bf",
   "metadata": {},
   "source": [
    "### Epidemiología"
   ]
  },
  {
   "cell_type": "code",
   "execution_count": null,
   "id": "deac4083-1b73-4bef-8aef-90c12e571b12",
   "metadata": {},
   "outputs": [],
   "source": [
    "# Importamos los paquetes\n",
    "import numpy as np\n",
    "from scipy.stats import expon\n",
    "import matplotlib.pyplot as plt\n",
    "\n",
    "# Definimos los parámetros del modelo y generamos los datos\n",
    "lamb = 0.2\n",
    "n_observaciones = 1000\n",
    "datos = expon.rvs(scale=1 / lamb, size=n_observaciones)"
   ]
  },
  {
   "cell_type": "code",
   "execution_count": null,
   "id": "8e50f6d6-9dc3-454c-994b-81c96f1c91f6",
   "metadata": {},
   "outputs": [],
   "source": [
    "# Histograma con los datos\n",
    "x = np.linspace(0, max(datos), 1000)\n",
    "plt.figure(figsize=(6, 4))\n",
    "plt.hist(datos, bins=30, density=True, alpha=0.5, color=\"red\")\n",
    "plt.xlabel(\"Tiempo entre Infecciones (días)\")\n",
    "plt.title('Histograma de \"datos\"')\n",
    "plt.show()"
   ]
  },
  {
   "cell_type": "code",
   "execution_count": null,
   "id": "72975d31-8d8e-4423-9273-ea593d3b43cf",
   "metadata": {},
   "outputs": [],
   "source": [
    "\"\"\"Calculamos los parámetros. Recordad que los datos están generados a partir de un parámetro lambda = 0.2\"\"\"\n",
    "\n",
    "beta = datos.mean()\n",
    "lamb = 1 / beta\n",
    "print(f\"El valor del parámetro lambda es {lamb:.4f} y la escala o media es {beta:.4f}\")"
   ]
  },
  {
   "cell_type": "code",
   "execution_count": null,
   "id": "28f95bf9-23ad-4b16-a293-3d979ee88571",
   "metadata": {},
   "outputs": [],
   "source": [
    "# Histograma con los datos y dibujamos la gráfica de la función de densidad empírica\n",
    "x = np.linspace(0, max(datos), 1000)\n",
    "plt.figure(figsize=(6, 4))\n",
    "plt.plot(\n",
    "    x, expon.pdf(x, scale=1 / lamb), \"g-\", linewidth=2, label=f\"$\\lambda$ = {lamb:.4f}\"\n",
    ")\n",
    "plt.hist(datos, bins=30, density=True, alpha=0.5, color=\"red\")\n",
    "plt.xlabel(\"Tiempo entre Infecciones (días)\")\n",
    "plt.ylabel(\"Densidad de Probabilidad\")\n",
    "plt.title(\"Histograma y función de densidad empírica\")\n",
    "plt.legend()\n",
    "plt.show()"
   ]
  },
  {
   "cell_type": "code",
   "execution_count": null,
   "id": "6e60a71e-e376-4a98-9077-c968fa511eaf",
   "metadata": {},
   "outputs": [],
   "source": [
    "# Calculamos la probabilidad\n",
    "prob_mas_5_dias = 1 - expon.cdf(5, scale=1 / lamb)\n",
    "print(f\"La probabilidad de que pasen más de 5 días es {prob_mas_5_dias:.4f}\")"
   ]
  },
  {
   "cell_type": "code",
   "execution_count": null,
   "id": "79799cb0-847f-4df9-9941-9ae0ff87182f",
   "metadata": {},
   "outputs": [],
   "source": [
    "# Dibujamos la función de densidad\n",
    "plt.plot(\n",
    "    x, expon.pdf(x, scale=1 / lamb), \"g-\", linewidth=2, label=f\"$\\lambda$ = {lamb:.4f}\"\n",
    ")\n",
    "\n",
    "# Definimos el intervalo\n",
    "x_mas_5 = x[5 < x]\n",
    "\n",
    "# Graficamos el área\n",
    "plt.fill_between(\n",
    "    x_mas_5, expon.pdf(x_mas_5, scale=1 / lamb), alpha=0.6, label=\"Área de Probabilidad\"\n",
    ")\n",
    "plt.xlabel(\"Tiempo entre Infecciones (días)\")\n",
    "plt.ylabel(\"Densidad de Probabilidad\")\n",
    "plt.title(\"Función de densidad y $P[X\\geq 5]$\")\n",
    "plt.legend()\n",
    "plt.show()"
   ]
  }
 ],
 "metadata": {
  "kernelspec": {
   "display_name": "Python 3 (ipykernel)",
   "language": "python",
   "name": "python3"
  },
  "language_info": {
   "codemirror_mode": {
    "name": "ipython",
    "version": 3
   },
   "file_extension": ".py",
   "mimetype": "text/x-python",
   "name": "python",
   "nbconvert_exporter": "python",
   "pygments_lexer": "ipython3",
   "version": "3.10.13"
  }
 },
 "nbformat": 4,
 "nbformat_minor": 5
}
