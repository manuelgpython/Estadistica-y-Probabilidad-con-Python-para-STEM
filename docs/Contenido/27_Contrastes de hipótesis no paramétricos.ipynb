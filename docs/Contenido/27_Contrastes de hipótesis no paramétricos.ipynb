{
 "cells": [
  {
   "cell_type": "markdown",
   "id": "2f92d03c-2a32-408b-b77c-195ba05206a8",
   "metadata": {},
   "source": [
    "# CONTRASTES DE HIPÓTESIS NO PARAMÉTRICOS\n",
    "### Presión sanguínea"
   ]
  },
  {
   "cell_type": "code",
   "execution_count": null,
   "id": "34b620a6-be7d-40cb-8ffe-a59577287e10",
   "metadata": {},
   "outputs": [],
   "source": [
    "# Importamos librerías\n",
    "import numpy as np\n",
    "import scipy.stats as stats\n",
    "import matplotlib.pyplot as plt\n",
    "\n",
    "# Datos\n",
    "antes = np.array([130, 122, 125, 140, 135, 128, 138, 132])\n",
    "despues = np.array([120, 118, 119, 130, 128, 125, 126, 121])\n",
    "\n",
    "# Prueba de Wilcoxon\n",
    "stat, p_value = stats.wilcoxon(antes, despues)\n",
    "print(f\"Estadístico de prueba: {stat}, p-valor: {p_value}\")\n",
    "print()\n",
    "\n",
    "# Gráfico de comparación\n",
    "plt.figure(figsize=(6, 4))\n",
    "plt.boxplot([antes, despues], labels=[\"Antes\", \"Después\"])\n",
    "plt.title(\"Presión sanguínea antes vs después\\nPrueba de Wilcoxon\")\n",
    "plt.show()"
   ]
  },
  {
   "cell_type": "markdown",
   "id": "5b749fb4-7b1c-4a50-98b3-bf4753f38447",
   "metadata": {},
   "source": [
    "### Rendimiento de fertilizantes"
   ]
  },
  {
   "cell_type": "code",
   "execution_count": null,
   "id": "9966d570-f731-4c80-9245-f65746c39698",
   "metadata": {},
   "outputs": [],
   "source": [
    "# Importamos librerías\n",
    "import numpy as np\n",
    "import scipy.stats as stats\n",
    "import matplotlib.pyplot as plt\n",
    "\n",
    "# Datos: crecimiento de plantas con dos fertilizantes distintos\n",
    "fertilizante_A = np.array([15, 16, 14, 25, 18, 22, 17, 16])\n",
    "fertilizante_B = np.array([22, 21, 25, 20, 23, 24, 22, 21])\n",
    "\n",
    "# Prueba de Mann-Whitney U\n",
    "stat, p = stats.mannwhitneyu(fertilizante_A, fertilizante_B)\n",
    "print(f\"Estadístico de prueba: {stat}, p-valor: {p}\")\n",
    "print()\n",
    "\n",
    "# Gráfico de comparación\n",
    "plt.figure(figsize=(6, 4))\n",
    "plt.boxplot([fertilizante_A, fertilizante_B], labels=[\"A\", \"B\"])\n",
    "plt.title(\"Fertilizante A vs Fertilizante B\")\n",
    "plt.show()"
   ]
  },
  {
   "cell_type": "markdown",
   "id": "272fff67-d850-40d4-85cb-cb0245e5c372",
   "metadata": {},
   "source": [
    "### Contaminación en tres ríos"
   ]
  },
  {
   "cell_type": "code",
   "execution_count": null,
   "id": "068d5bf5-19f5-4f14-89bb-4dc064a7bc5c",
   "metadata": {},
   "outputs": [],
   "source": [
    "# Importamos librerías\n",
    "import numpy as np\n",
    "import scipy.stats as stats\n",
    "import matplotlib.pyplot as plt\n",
    "\n",
    "# Datos: niveles de contaminación en tres ríos\n",
    "rio_1 = np.array([42, 41, 37, 35, 40])\n",
    "rio_2 = np.array([40, 42, 38, 41, 39])\n",
    "rio_3 = np.array([50, 55, 53, 52, 54])\n",
    "\n",
    "# Prueba de Kruskal-Wallis\n",
    "stat, p = stats.kruskal(rio_1, rio_2, rio_3)\n",
    "print(f\"Estadístico de prueba: {stat}, p-valor: {p}\")\n",
    "print()\n",
    "\n",
    "# Gráfico de comparación\n",
    "plt.figure(figsize=(6, 4))\n",
    "plt.boxplot([rio_1, rio_2, rio_3], labels=[\"Río 1\", \"Río 2\", \"Río 3\"])\n",
    "plt.title(\"Contaminación en ríos\")\n",
    "plt.show()"
   ]
  },
  {
   "cell_type": "markdown",
   "id": "703b7176-c305-4037-a6ac-45d25572ab5a",
   "metadata": {},
   "source": [
    "### Algoritmos de machine learning"
   ]
  },
  {
   "cell_type": "code",
   "execution_count": null,
   "id": "b2b72c03-7c65-4f01-9228-fbc1f573b175",
   "metadata": {},
   "outputs": [],
   "source": [
    "# Importamos librerías\n",
    "import numpy as np\n",
    "import scipy.stats as stats\n",
    "import matplotlib.pyplot as plt\n",
    "\n",
    "# Datos: precisión de tres algoritmos en cinco conjuntos de datos\n",
    "algoritmo_1 = np.array([88, 88, 87, 89, 86])\n",
    "algoritmo_2 = np.array([89, 85, 84, 87, 86])\n",
    "algoritmo_3 = np.array([88, 85, 87, 85, 87])\n",
    "\n",
    "# Prueba de Friedman\n",
    "stat, p = stats.friedmanchisquare(algoritmo_1, algoritmo_2, algoritmo_3)\n",
    "print(f\"Estadístico de prueba: {stat:.4f}, p-valor: {p}\")\n",
    "\n",
    "# Gráfico de comparación\n",
    "plt.figure(figsize=(6, 4))\n",
    "plt.boxplot(\n",
    "    [algoritmo_1, algoritmo_2, algoritmo_3],\n",
    "    labels=[\"Algoritmo 1\", \"Algoritmo 2\", \"Algoritmo 3\"],\n",
    ")\n",
    "plt.title(\"Rendimiento de algoritmos\")\n",
    "plt.show()"
   ]
  },
  {
   "cell_type": "markdown",
   "id": "0106cf57-df01-4c9c-b3f2-ed5e14b5be9d",
   "metadata": {},
   "source": [
    "### Relación entre contaminación ambiental y enfermedades respiratorias"
   ]
  },
  {
   "cell_type": "code",
   "execution_count": null,
   "id": "fdbf124b-6910-4551-b4f8-a70782e6ab51",
   "metadata": {},
   "outputs": [],
   "source": [
    "# Importamos librerías\n",
    "import numpy as np\n",
    "import scipy.stats as stats\n",
    "import matplotlib.pyplot as plt\n",
    "\n",
    "# Datos: contaminación ambiental y enfermedades respiratorias\n",
    "contaminacion = np.array([10, 20, 30, 40, 50])\n",
    "enfermedades = np.array([5, 15, 25, 35, 40])\n",
    "\n",
    "# Correlación de Spearman\n",
    "coef, p = stats.spearmanr(contaminacion, enfermedades)\n",
    "print(f\"Coeficiente de Spearman: {coef:.4f}, p-valor: {p}\")"
   ]
  }
 ],
 "metadata": {
  "kernelspec": {
   "display_name": "Python 3 (ipykernel)",
   "language": "python",
   "name": "python3"
  },
  "language_info": {
   "codemirror_mode": {
    "name": "ipython",
    "version": 3
   },
   "file_extension": ".py",
   "mimetype": "text/x-python",
   "name": "python",
   "nbconvert_exporter": "python",
   "pygments_lexer": "ipython3",
   "version": "3.10.13"
  }
 },
 "nbformat": 4,
 "nbformat_minor": 5
}
