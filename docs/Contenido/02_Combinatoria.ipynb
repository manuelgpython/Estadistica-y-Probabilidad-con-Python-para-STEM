{
 "cells": [
  {
   "cell_type": "markdown",
   "metadata": {
    "id": "jwzjrY3MThQk"
   },
   "source": [
    "# **2_COMBINATORIA CON PYTHON**\n",
    "## Librería math"
   ]
  },
  {
   "cell_type": "code",
   "execution_count": null,
   "metadata": {
    "id": "xhdkpa3r46Yd"
   },
   "outputs": [],
   "source": [
    "# Importamos la librería\n",
    "import math"
   ]
  },
  {
   "cell_type": "code",
   "execution_count": null,
   "metadata": {
    "colab": {
     "base_uri": "https://localhost:8080/"
    },
    "id": "fgOxcwT-gvCx",
    "outputId": "103da915-e332-463c-d098-a36eb9df1700"
   },
   "outputs": [],
   "source": [
    "# Permutaciones sin repetición de 5 elementos\n",
    "math.perm(5)"
   ]
  },
  {
   "cell_type": "code",
   "execution_count": null,
   "metadata": {
    "colab": {
     "base_uri": "https://localhost:8080/"
    },
    "id": "H6hrhgt86Nnq",
    "outputId": "62bfcb98-5155-4e95-a54c-15760b5c974f"
   },
   "outputs": [],
   "source": [
    "# Variaciones sin repetición de 5 elementos tomados 3 a 3 (5.4.3 = 60)\n",
    "math.perm(5, 3)"
   ]
  },
  {
   "cell_type": "code",
   "execution_count": null,
   "metadata": {
    "colab": {
     "base_uri": "https://localhost:8080/"
    },
    "id": "smKv5Cs-6Zf6",
    "outputId": "8921b66b-423f-467a-fb9a-dcc9dfce7ae8"
   },
   "outputs": [],
   "source": [
    "# Combinaciones sin repetición de 5 elementos tomados 3 a 3\n",
    "math.comb(5, 3)"
   ]
  },
  {
   "cell_type": "code",
   "execution_count": null,
   "metadata": {
    "colab": {
     "base_uri": "https://localhost:8080/"
    },
    "id": "u-P7xvNn6m90",
    "outputId": "d754a17f-b0ea-4b02-82a8-b20eea8c40bf"
   },
   "outputs": [],
   "source": [
    "# Variaciones con repetición (No hay función en math)\n",
    "5**3"
   ]
  },
  {
   "cell_type": "code",
   "execution_count": null,
   "metadata": {
    "colab": {
     "base_uri": "https://localhost:8080/"
    },
    "id": "02ZKlMA860NI",
    "outputId": "8aaf4267-607a-4035-cc98-45f2d0324016"
   },
   "outputs": [],
   "source": [
    "\"\"\"Permutaciones con repetición de 5 elementos donde hay uno que se repite\n",
    "dos veces y otro tres (on hay un método (función) definido.)\"\"\"\n",
    "\n",
    "math.factorial(5) / (math.factorial(2) * math.factorial(3))"
   ]
  },
  {
   "cell_type": "markdown",
   "metadata": {
    "id": "y3E-ISGp7XD5"
   },
   "source": [
    "## **LIBRERÍA `itertools`**"
   ]
  },
  {
   "cell_type": "code",
   "execution_count": null,
   "metadata": {
    "id": "ckP1FFmO5DIQ"
   },
   "outputs": [],
   "source": [
    "# Importamos la librería\n",
    "import itertools"
   ]
  },
  {
   "cell_type": "markdown",
   "metadata": {
    "id": "8-j53_dqjmIu"
   },
   "source": [
    "### **Variaciones sin repetición.**\n",
    "$$\n",
    "V_{n,k} = \\frac{n!}{(n-k)!}\n",
    "$$"
   ]
  },
  {
   "cell_type": "code",
   "execution_count": null,
   "metadata": {
    "id": "uKZsB3zW8Jsd"
   },
   "outputs": [],
   "source": [
    "\"\"\"VARIACIONES SIN REPETICIÓN (i.e. de 5 elementos tomados de 3 en 3)\n",
    "Definimos el conjunto de elementos que vamos a variar\"\"\"\n",
    "\n",
    "elementos = [1, 2, 3, 4]\n",
    "# Construimos un objeto que contenga todas las variaciones\n",
    "variaciones_sin_ordenaciones = itertools.permutations(elementos, 3)"
   ]
  },
  {
   "cell_type": "code",
   "execution_count": null,
   "metadata": {
    "colab": {
     "base_uri": "https://localhost:8080/"
    },
    "id": "8rGsmwLr8UOm",
    "outputId": "f0e8b509-5291-4834-a457-1b9371f17a8c"
   },
   "outputs": [],
   "source": [
    "# Es un objeto iterable\n",
    "variaciones_sin_ordenaciones"
   ]
  },
  {
   "cell_type": "code",
   "execution_count": null,
   "metadata": {
    "colab": {
     "base_uri": "https://localhost:8080/"
    },
    "id": "7YTWBi6D8aYI",
    "outputId": "74eee109-7694-4ea5-e41b-785d5d6c4900"
   },
   "outputs": [],
   "source": [
    "\"\"\"Al ser iterable, podemos calcular cuántos elementos tiene y\n",
    "visualizar las  ordenaciones.\"\"\"\n",
    "\n",
    "j = 0\n",
    "lista = []\n",
    "for i in variaciones_sin_ordenaciones:\n",
    "    lista.append(i)\n",
    "    j += 1\n",
    "print(lista)\n",
    "print()\n",
    "print(f\"Hay un total de {j} variaciones.\")"
   ]
  },
  {
   "cell_type": "markdown",
   "metadata": {
    "id": "CSxNoUIHsgJM"
   },
   "source": [
    "\n",
    "### **Variaciones con repetición.**\n",
    "$$\n",
    "VR_{n,k} = n^k\n",
    "$$"
   ]
  },
  {
   "cell_type": "code",
   "execution_count": null,
   "metadata": {
    "id": "KaKTvq6PsfZn"
   },
   "outputs": [],
   "source": [
    "# Defimos el conjunto que queremos \"variar\"\n",
    "conjunto = \"ABC\"  # Puede ser una lista o un `string`"
   ]
  },
  {
   "cell_type": "code",
   "execution_count": null,
   "metadata": {
    "id": "-qzCgbOsjicB"
   },
   "outputs": [],
   "source": [
    "# Variaciones con repetición de tres elementos tomados de dos en dos\n",
    "variaciones_con_ordenaciones = itertools.product(conjunto, repeat=2)\n",
    "# Es un producto cartesiano de \"conjunto\" x \"conjunto\""
   ]
  },
  {
   "cell_type": "code",
   "execution_count": null,
   "metadata": {
    "colab": {
     "base_uri": "https://localhost:8080/"
    },
    "id": "obM-ty0htBYq",
    "outputId": "191c874e-0e01-4423-bd5e-15ce54bae9db"
   },
   "outputs": [],
   "source": [
    "# Bucle para leer las variaciones y contarlas.\n",
    "numero_variaciones_repet = 0  # Inicializamos el contador\n",
    "# Bucle para imprimir y contar las variaciones.\n",
    "for i in variaciones_con_ordenaciones:\n",
    "    print(i)\n",
    "    numero_variaciones_repet += 1\n",
    "print(f\"{numero_variaciones_repet} variaciones con repetición.\")"
   ]
  },
  {
   "cell_type": "markdown",
   "metadata": {
    "id": "YmyXY0rQuEcv"
   },
   "source": [
    "### **Permutaciones sin repetición.**\n",
    "$$\n",
    "P_n = n!\n",
    "$$"
   ]
  },
  {
   "cell_type": "code",
   "execution_count": null,
   "metadata": {
    "colab": {
     "base_uri": "https://localhost:8080/"
    },
    "id": "dZHZDoMEuUHc",
    "outputId": "c3bc2146-5dcd-4e38-bee8-cc1824639ed5"
   },
   "outputs": [],
   "source": [
    "# Importamos el módulo itertools por si no lo habíamos hecho antes\n",
    "import itertools\n",
    "\n",
    "# Definimos el conjunto que queremos permutar\n",
    "conjunto = [1, 2, 3]\n",
    "\n",
    "# Creamos el objeto que contiene las permutaciones\n",
    "permutaciones_sin = itertools.permutations(conjunto)\n",
    "\n",
    "\"\"\"Ciclo \"for\" para visualizarlas, pero ahora vamos a crear una lista con las\n",
    "permutaciones para visualizarlas más cómodamente.\"\"\"\n",
    "lista_permutaciones = []  # Lista vacía donde acumulamos las permutaciones\n",
    "numero_permutaciones = 0  # Inicializamos el contador de permutaciones\n",
    "\n",
    "for i in permutaciones_sin:\n",
    "    lista_permutaciones.append(i)\n",
    "    numero_permutaciones += 1\n",
    "\n",
    "print(f\"Hay {numero_permutaciones} permutaciones sin repetición.\")\n",
    "print(lista_permutaciones)"
   ]
  },
  {
   "cell_type": "markdown",
   "metadata": {
    "id": "SIw17PRP97EK"
   },
   "source": [
    "### **Permutaciones con repetición.**\n",
    "$$\n",
    "PR_{n} = \\dfrac{n!}{n_1! \\cdot n_2! \\cdot \\dots \\cdot n_r!}\n",
    "$$"
   ]
  },
  {
   "cell_type": "code",
   "execution_count": null,
   "metadata": {
    "colab": {
     "base_uri": "https://localhost:8080/"
    },
    "id": "UgYQHriy96wH",
    "outputId": "4ac817da-f06e-4130-bdbf-a4853f252c91"
   },
   "outputs": [],
   "source": [
    "\"\"\"No disponemos de una función específica\n",
    "por lo que habrá que calcularlo \"a mano\"\"\"\n",
    "\n",
    "import math\n",
    "\n",
    "conjunto = \"AABBB\"\n",
    "num_permuta_con = math.factorial(5) / (math.factorial(2) * math.factorial(3))\n",
    "print(f\"Hay {int(num_permuta_con)} permutaciones con repetición.\")"
   ]
  },
  {
   "cell_type": "code",
   "execution_count": null,
   "metadata": {
    "colab": {
     "base_uri": "https://localhost:8080/"
    },
    "id": "XxsfxBHnDUGf",
    "outputId": "822f45ec-aafd-4d05-c418-7401c99bd8ea"
   },
   "outputs": [],
   "source": [
    "\"\"\"Si queremos calcular el número de permutaciones y visualizarlas,\n",
    "podemos utilizar el siguiente programa\"\"\"\n",
    "\n",
    "conjunto = \"AABBB\"  # Cadena/lista que se quiera permutar\n",
    "\n",
    "\"\"\"Inicializamos un diccionario donde se acumulen los elementos (keys) \n",
    "y las veces que se repite cada uno (values)\"\"\"\n",
    "letras_dic = dict()  # Diccionario vacío\n",
    "elementos_repetidos = 0  # Elementos que se repiten\n",
    "\n",
    "for letra in conjunto:  # Por cada letra\n",
    "    if letra in letras_dic:  # Si ya estaba en el dic() significa que se repite\n",
    "        if letras_dic[letra] == 1:\n",
    "            elementos_repetidos += 1  # Se agrega al contador\n",
    "        letras_dic[letra] += 1  # Continua el conteo\n",
    "    else:\n",
    "        letras_dic[letra] = 1  # Si la letra no esta en el diccionario, la añade\n",
    "\n",
    "\"\"\"Obtenermos el diccionario con el número de veces (values) que se repite\n",
    "cada elemento (keys)\"\"\"\n",
    "print(letras_dic)\n",
    "print(f\"Hay {elementos_repetidos} elementos que se repiten.\")"
   ]
  },
  {
   "cell_type": "code",
   "execution_count": null,
   "metadata": {
    "colab": {
     "base_uri": "https://localhost:8080/"
    },
    "id": "inCLO5xeDgqD",
    "outputId": "d0b3389a-29b9-40f6-bdb8-7a62c514aebe"
   },
   "outputs": [],
   "source": [
    "\"\"\"Iniciamos el número de permutaciones con repetición\n",
    "con el valor del número de repeticiones sin repetición.\"\"\"\n",
    "\n",
    "numero_permutaciones_con = math.factorial(len(conjunto))\n",
    "\n",
    "\"\"\"Calculamos el número de permutaciones con repetición y la mostramos en pantalla\n",
    "dividiendo en cada iteración por el número de permutaciones de cada letra.\"\"\"\n",
    "for i in letras_dic.values():\n",
    "    numero_permutaciones_con = numero_permutaciones_con * 1 / math.factorial(i)\n",
    "\n",
    "print(f\"Hay {int(numero_permutaciones_con)} permutaciones con repetición.\")"
   ]
  },
  {
   "cell_type": "code",
   "execution_count": null,
   "metadata": {
    "colab": {
     "base_uri": "https://localhost:8080/"
    },
    "id": "bS0QNpQXRaLh",
    "outputId": "d48c9a1c-2179-4157-c196-ebe3113ef953"
   },
   "outputs": [],
   "source": [
    "\"\"\"Para visualizar las permutaciones, seguimos este proceso:\n",
    "#1. Generamos todas las permutaciones\"\"\"\n",
    "\n",
    "conjunto = \"AABBB\"\n",
    "# Habría 10 permutaciones con repetición pero Python nos devuelve 120\n",
    "\n",
    "conjunto_perm_con = itertools.permutations(conjunto)\n",
    "todas_permutaciones = []\n",
    "j = 0\n",
    "for i in conjunto_perm_con:\n",
    "    todas_permutaciones.append(i)\n",
    "    j += 1\n",
    "# Mostramos solo las 15 primeras\n",
    "for i in range(16):\n",
    "    print(todas_permutaciones[i])\n",
    "print(\"....\")\n",
    "print(f\"Hay {j} permutaciones.\")"
   ]
  },
  {
   "cell_type": "code",
   "execution_count": null,
   "metadata": {
    "colab": {
     "base_uri": "https://localhost:8080/"
    },
    "id": "XaCwF5VaTyWQ",
    "outputId": "849ee940-bd19-4544-bad2-eb70d17dba39"
   },
   "outputs": [],
   "source": [
    "\"\"\"Podemos observar que desde la primera hasta la sexta son la misma ordenación,\n",
    "pero no las distingue (para Python son \"diferentes letras\")\"\"\"\n",
    "\n",
    "\"\"\" 2. Creamos una lista con las permutaciones con repetición iterando el objeto \n",
    "creado por itertools y si el elemento NO está en la lista de permutaciones con repetición\n",
    "se añade. \"\"\"\n",
    "\n",
    "import itertools  # Volvemos a importar la librería por si hemos desconectado\n",
    "\n",
    "# Creamos nuevamente el objeto con las permutaciones\n",
    "conjunto_perm_con = itertools.permutations(conjunto)\n",
    "\n",
    "\"\"\" Creamos una lista para añadir las permutaciones con repetición limpiado el objeto\n",
    "de elementos repetidos. \"\"\"\n",
    "lista_permutaciones_con = []\n",
    "\n",
    "for i in conjunto_perm_con:\n",
    "    if i not in lista_permutaciones_con:\n",
    "        lista_permutaciones_con.append(i)\n",
    "\n",
    "print(lista_permutaciones)\n",
    "print()\n",
    "print(f\"Hay un total de {len(lista_permutaciones_con)} permutaciones con repetición.\")"
   ]
  },
  {
   "cell_type": "markdown",
   "metadata": {
    "id": "1t1fpMYMCmkR"
   },
   "source": [
    "## **Combinaciones sin repetición.**\n",
    "$$\n",
    "C_{n,k} = \\binom{n}{k} = \\dfrac{n!}{k!(n-k)!}\n",
    "$$"
   ]
  },
  {
   "cell_type": "code",
   "execution_count": null,
   "metadata": {
    "colab": {
     "base_uri": "https://localhost:8080/"
    },
    "id": "gWtCL4_xCtKM",
    "outputId": "8f69e993-2f1d-48bb-b9a0-1b847de5f115"
   },
   "outputs": [],
   "source": [
    "# Definimos el conjunto que queremos combinar.\n",
    "conjunto = [\"Juan\", \"Pedro\", \"Lucía\", \"María\"]\n",
    "\n",
    "import itertools  # Por si se ha desconectado\n",
    "\n",
    "# Vamos a formar parejas\n",
    "parejas = itertools.combinations(conjunto, 2)\n",
    "\n",
    "# Para ver las parejas, un loop\n",
    "total = 0\n",
    "for pareja in parejas:\n",
    "    total += 1\n",
    "    print(pareja)\n",
    "\n",
    "print(f\"Hay un total de {total} parejas posibles.\")"
   ]
  },
  {
   "cell_type": "markdown",
   "metadata": {
    "id": "cH7wf3O_EQ3w"
   },
   "source": [
    "### **Combinaciones con repetición.**\n",
    "$$\n",
    "CR_{n,k} = \\binom{n+k-1}{k} = \\dfrac{(n+k-1)!}{k!\\cdot (n-1)!}\n",
    "$$"
   ]
  },
  {
   "cell_type": "code",
   "execution_count": null,
   "metadata": {
    "colab": {
     "base_uri": "https://localhost:8080/"
    },
    "id": "yjKZx5BnEk9B",
    "outputId": "07c5fd93-84f5-4b5c-cdd4-d5f42c2d168f"
   },
   "outputs": [],
   "source": [
    "# Definimos el conjunto\n",
    "cadena = \"aeiou\"\n",
    "\n",
    "\"\"\" Hay un método que calcula las combinaciones con repetición, pasando\n",
    "como argumentos el cojunto y de cuanto en cuanto queremos agrupar. \"\"\"\n",
    "\n",
    "combinaciones_repet = itertools.combinations_with_replacement(\n",
    "    cadena, 2\n",
    ")  # Argumentos: cadena y\n",
    "\n",
    "# Para contarlas y visualizarlas\n",
    "numero = 0\n",
    "for combinacion in combinaciones_repet:\n",
    "    print(combinacion)\n",
    "    numero += 1\n",
    "print()\n",
    "print(f\"Se pueden formar {numero} combinaciones con repetición\")"
   ]
  },
  {
   "cell_type": "markdown",
   "metadata": {},
   "source": [
    "## **SOLUCIONES DE LOS EJERCICIOS DE LA INTRODUCCIÓN**"
   ]
  },
  {
   "cell_type": "markdown",
   "metadata": {},
   "source": [
    "De un grupo de 10 personas, se quieren seleccionar 4 para ocupar los puestos de presidente, vicepresidente, tesorero y secretario en una organización estudiantil. ¿De cuántas formas distintas se pueden asignar estos cargos? (**Variaciones sin repetición de diez elementos tomados de cuatro en cuatro.**)"
   ]
  },
  {
   "cell_type": "code",
   "execution_count": null,
   "metadata": {},
   "outputs": [],
   "source": [
    "# Con la librería math\n",
    "import math\n",
    "\n",
    "math.perm(10, 4)"
   ]
  },
  {
   "cell_type": "code",
   "execution_count": null,
   "metadata": {},
   "outputs": [],
   "source": [
    "# Con la librería itertools\n",
    "import itertools\n",
    "\n",
    "personas = list(range(10))\n",
    "variaciones_sin = itertools.permutations(personas, 4)\n",
    "j = 0\n",
    "for _ in variaciones_sin:\n",
    "    j += 1\n",
    "print(f\"Se pueden formar {j} grupos distintos.\")"
   ]
  },
  {
   "cell_type": "markdown",
   "metadata": {},
   "source": [
    "Una tienda vende 5 modelos diferentes de teléfonos. Si un cliente quiere comprar 4 teléfonos (puede elegir más de uno del mismo modelo), ¿de cuántas maneras puede realizar su compra? (**Variaciones con repetición de cinco elementos tomados de cuatro en cuatro.**)"
   ]
  },
  {
   "cell_type": "code",
   "execution_count": null,
   "metadata": {},
   "outputs": [],
   "source": [
    "import itertools\n",
    "\n",
    "modelos = list(range(5))\n",
    "compras = itertools.product(modelos, repeat=4)\n",
    "j = 0\n",
    "for _ in compras:\n",
    "    j += 1\n",
    "print(f\"Se pueden hacer {j} compras distintas.\")"
   ]
  },
  {
   "cell_type": "markdown",
   "metadata": {},
   "source": [
    "Un grupo de 5 amigos va a tomarse una foto en la que deben posar en una fila. ¿De cuántas maneras diferentes pueden organizarse para la foto? (**Permutaciones sin repetición de cinco elementos**)"
   ]
  },
  {
   "cell_type": "code",
   "execution_count": null,
   "metadata": {},
   "outputs": [],
   "source": [
    "# Con math\n",
    "import math\n",
    "\n",
    "print(f\"Pueden hacerse {math.perm(5)} fotografías distintas.\")"
   ]
  },
  {
   "cell_type": "code",
   "execution_count": null,
   "metadata": {},
   "outputs": [],
   "source": [
    "# Con itertools\n",
    "import math\n",
    "\n",
    "amigos = list(range(5))\n",
    "poses = itertools.permutations(amigos)\n",
    "j = 0\n",
    "for _ in poses:\n",
    "    j += 1\n",
    "print(f\"Se pueden hacer {j} fotografías distintas.\")"
   ]
  },
  {
   "cell_type": "markdown",
   "metadata": {},
   "source": [
    "En una caja hay 3 bolas rojas y 2 bolas azules. Si todas las bolas son idénticas según su color, ¿de cuántas maneras se pueden ordenar las 5 bolas en una fila? (**Permutaciones con repetición de 5 elementos donde hay uno que se repite tres veces y otro dos.**)"
   ]
  },
  {
   "cell_type": "code",
   "execution_count": null,
   "metadata": {},
   "outputs": [],
   "source": [
    "bolas = \"RRRAA\"\n",
    "bolas_todas_perm = itertools.permutations(bolas)\n",
    "lista_permutaciones_con = []\n",
    "\n",
    "for i in bolas_todas_perm:\n",
    "    if i not in lista_permutaciones_con:\n",
    "        lista_permutaciones_con.append(i)\n",
    "\n",
    "print(lista_permutaciones_con)\n",
    "print()\n",
    "print(f\"Hay un total de {len(lista_permutaciones_con)} permutaciones con repetición.\")"
   ]
  },
  {
   "cell_type": "markdown",
   "metadata": {},
   "source": [
    "Un club tiene 15 miembros y desea elegir a 5 para que asistan a una conferencia. ¿De cuántas maneras se pueden seleccionar los 5 miembros? (**Combinaciones sin repetición de quince elementos tomados de cinco en cinco**)"
   ]
  },
  {
   "cell_type": "code",
   "execution_count": null,
   "metadata": {},
   "outputs": [],
   "source": [
    "# Con la librería math\n",
    "print(f\"Se pueden seleccionar de {math.comb(15,5)} formas distintas.\")"
   ]
  },
  {
   "cell_type": "code",
   "execution_count": null,
   "metadata": {},
   "outputs": [],
   "source": [
    "# Con la librería itertools\n",
    "# Definimos el conjunto que queremos combinar.\n",
    "conjunto = list(range(15))\n",
    "\n",
    "import itertools  # Por si se ha desconectado\n",
    "\n",
    "# Vamos a formar parejas\n",
    "grupos = itertools.combinations(conjunto, 5)\n",
    "\n",
    "total = 0\n",
    "for grupo in grupos:\n",
    "    total += 1\n",
    "\n",
    "print(f\"Se pueden seleccionar de {total} formas distintas.\")"
   ]
  },
  {
   "cell_type": "markdown",
   "metadata": {},
   "source": [
    " Un grupo de amigos quiere pedir 2 pizzas de 6 sabores disponibles. ¿Cuántas combinaciones diferentes de pizzas pueden elegir si pueden pedir varias del mismo sabor? (**Combinaciones con repetición de seis elementos tomados de dos en dos**)"
   ]
  },
  {
   "cell_type": "code",
   "execution_count": null,
   "metadata": {},
   "outputs": [],
   "source": [
    "pizzas = [\"Margarita\", \"Cuatro Quesos\", \"Carbonara\", \"Atún\", \"Carne\", \"Barbacoa\"]\n",
    "combinaciones_repet = itertools.combinations_with_replacement(pizzas, 2)\n",
    "numero = 0\n",
    "for combinacion in combinaciones_repet:\n",
    "    print(combinacion)\n",
    "    numero += 1\n",
    "print()\n",
    "print(f\"Se pueden hacer {numero} pedidos distintos.\")"
   ]
  }
 ],
 "metadata": {
  "colab": {
   "provenance": []
  },
  "kernelspec": {
   "display_name": "Python 3 (ipykernel)",
   "language": "python",
   "name": "python3"
  },
  "language_info": {
   "codemirror_mode": {
    "name": "ipython",
    "version": 3
   },
   "file_extension": ".py",
   "mimetype": "text/x-python",
   "name": "python",
   "nbconvert_exporter": "python",
   "pygments_lexer": "ipython3",
   "version": "3.10.13"
  }
 },
 "nbformat": 4,
 "nbformat_minor": 4
}
