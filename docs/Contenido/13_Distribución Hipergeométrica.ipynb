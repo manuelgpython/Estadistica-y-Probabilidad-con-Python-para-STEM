{
 "cells": [
  {
   "cell_type": "markdown",
   "id": "8f1d1d85-5fd4-4b7a-a9da-04bde2b2ea7f",
   "metadata": {},
   "source": [
    "### 13_DISTRIBUCIÓN HIPERGEOMÉTRICA"
   ]
  },
  {
   "cell_type": "code",
   "execution_count": null,
   "id": "fb226f1c-cd0c-4ec1-948a-dcf7aa2dd591",
   "metadata": {},
   "outputs": [],
   "source": [
    "# Graficar la función masa de probabilidad\n",
    "import numpy as np\n",
    "from scipy.stats import hypergeom\n",
    "import matplotlib.pyplot as plt\n",
    "\n",
    "\n",
    "def plot_hipergeom(N, K, n):\n",
    "    \"\"\"Dibuja la función masa, con los argumentos:\n",
    "    N = Tamaño de la población\n",
    "    K = Éxitos en la población\n",
    "    n = Tamaño de la muestra\n",
    "    \"\"\"\n",
    "    k = np.arange(0, min(n, K) + 1)  # Valores posibles\n",
    "    pmf = hypergeom.pmf(k, N, K, n)  # Probabilidades hipergeométrica\n",
    "    cdf = hypergeom.cdf(k, N, K, n)  # Acumuladas hipergeométrica\n",
    "\n",
    "    plt.figure(figsize=(10, 6))\n",
    "    plt.bar(k, pmf, alpha=0.6, color=\"blue\", label=\"PMF\")\n",
    "    plt.plot(k, cdf, \"r-\", label=\"CDF\")\n",
    "    plt.title(f\"Distribución Hipergeométrica (N={N}, K={K}, n={n})\")\n",
    "    plt.xlabel(\"k éxitos en la muestra\")\n",
    "    plt.ylabel(\"Probabilidad\")\n",
    "    plt.legend()\n",
    "    plt.show()"
   ]
  },
  {
   "cell_type": "code",
   "execution_count": null,
   "id": "5a6c9f56-ae2b-48ad-83c3-c3327fd9c3a9",
   "metadata": {},
   "outputs": [],
   "source": [
    "plot_hipergeom(20, 7, 5)"
   ]
  },
  {
   "cell_type": "markdown",
   "id": "07dfee79-4fd8-4dd6-8ac3-a6431d25665f",
   "metadata": {},
   "source": [
    "### Control de calidad"
   ]
  },
  {
   "cell_type": "code",
   "execution_count": null,
   "id": "a6f19782-5d6b-43a0-951c-70339058debe",
   "metadata": {},
   "outputs": [],
   "source": [
    "N = 100  # La población son las piezas de la caja\n",
    "K = 10  # El éxito es que sea defectuoso\n",
    "n = 8  # La muestra que se escoge para inspeccionar\n",
    "\n",
    "plot_hipergeom(N, K, n)"
   ]
  },
  {
   "cell_type": "code",
   "execution_count": null,
   "id": "b46a9d24-3e25-423e-8b55-48cd21f1bd81",
   "metadata": {},
   "outputs": [],
   "source": [
    "# Probabilidad de exactamente dos defectuosos\n",
    "prob_2_defect = hypergeom.pmf(2, N, K, n)\n",
    "print(f\"La probabilidad de exactamente dos defectuosos es {prob_2_defect:.4f}\")"
   ]
  },
  {
   "cell_type": "code",
   "execution_count": null,
   "id": "840d37af-372f-4932-a989-ec2fa60fd363",
   "metadata": {},
   "outputs": [],
   "source": [
    "k = np.arange(0, 9)  # Todos los valores de 0 a 10\n",
    "k2 = 2  # El valor 2\n",
    "k_2 = np.delete(k, 2)  # Todos los valores menos el 2\n",
    "\n",
    "# Dibujamos diferenciando P[X=2]\n",
    "plt.figure(figsize=(10, 6))\n",
    "plt.bar(k2, hypergeom.pmf(k2, N, K, n), alpha=0.6, color=\"red\", label=\"$P[X=2]$\")\n",
    "neq = \"$P[X \\\\neq 2]$\"\n",
    "plt.bar(\n",
    "    k_2, hypergeom.pmf(k_2, N, K, n), alpha=0.6, color=\"blue\", label=\"$P[X \\\\neq 2]$\"\n",
    ")\n",
    "plt.title(f\"Distribución Hipergeométrica (N={N}, K={K}, n={n})\")\n",
    "plt.xlabel(\"k defectuosos en la muestra\")\n",
    "plt.ylabel(\"Probabilidad\")\n",
    "plt.legend()\n",
    "plt.show()"
   ]
  },
  {
   "cell_type": "markdown",
   "id": "c7af8bbf-bd8f-453d-b419-b93821fcddcb",
   "metadata": {},
   "source": [
    "### Genética"
   ]
  },
  {
   "cell_type": "code",
   "execution_count": null,
   "id": "8383fd86-b00c-4b50-829c-f9459b8fcdd9",
   "metadata": {},
   "outputs": [],
   "source": [
    "# Definimos los parámetros\n",
    "N = 200  # Población\n",
    "K = 50  # El éxito es que tenga el alelo\n",
    "n = 10  # La muestra que se escoge para inspeccionar\n",
    "\n",
    "\"\"\" Dibujamos la función de probabilidad (pmf) y distribución (cdf)\n",
    "    con la función definida antes \"\"\"\n",
    "plot_hipergeom(N, K, n)"
   ]
  },
  {
   "cell_type": "code",
   "execution_count": null,
   "id": "94006010-35c6-4793-b041-7331e121412f",
   "metadata": {},
   "outputs": [],
   "source": [
    "prob_more_3 = 1 - hypergeom.cdf(3, N, K, n)\n",
    "print(f\"La probabilidad de más de 3 personas con el alelo es {prob_more_3:.4f}\")"
   ]
  },
  {
   "cell_type": "code",
   "execution_count": null,
   "id": "af29183c-fcd9-4a42-ab77-8e560d2f9e92",
   "metadata": {},
   "outputs": [],
   "source": [
    "# Dos arrays con los valores menores o iguales que 3 y mayores que 3\n",
    "k_up_3 = np.arange(0, 4)\n",
    "k_more_3 = np.arange(4, 11)\n",
    "\n",
    "# Probabilidades\n",
    "pmf_up_3 = hypergeom.pmf(k_up_3, N, K, n)\n",
    "pmf_more_3 = hypergeom.pmf(k_more_3, N, K, n)\n",
    "\n",
    "# Graficamos\n",
    "plt.figure(figsize=(10, 6))\n",
    "plt.bar(k_up_3, pmf_up_3, alpha=0.6, color=\"blue\", label=\"$P[X\\leq3]$\")\n",
    "plt.bar(k_more_3, pmf_more_3, alpha=0.6, color=\"red\", label=\"$P[X > 3]$\")\n",
    "plt.title(f\"Distribución Hipergeométrica (N={N}, K={K}, n={n})\")\n",
    "plt.xlabel(\"k personas con el alelo en la muestra\")\n",
    "plt.ylabel(\"Probabilidad\")\n",
    "plt.legend()\n",
    "plt.show()"
   ]
  },
  {
   "cell_type": "markdown",
   "id": "f00720a3-d375-4a61-b6d1-0d57d4f536be",
   "metadata": {},
   "source": [
    "### Simulación en ciencias del deporte"
   ]
  },
  {
   "cell_type": "code",
   "execution_count": null,
   "id": "49790fe8-1271-4c75-98e8-b55fe4eeed57",
   "metadata": {},
   "outputs": [],
   "source": [
    "import numpy as np\n",
    "from scipy.stats import hypergeom\n",
    "import matplotlib.pyplot as plt\n",
    "import seaborn as sns\n",
    "\n",
    "# Definimos los parámetros de la distribución\n",
    "N = 50  # Total de jugadores disponibles\n",
    "K = 20  # Tiradores efectivos\n",
    "n = 12  # Tamaño del equipo\n",
    "\n",
    "# Simulación de 1000 selecciones de equipo\n",
    "num_simulations = 1000\n",
    "results = []\n",
    "\n",
    "for _ in range(num_simulations):\n",
    "    # Crear población\n",
    "    population = np.array([\"Tirador\"] * K + [\"No_tirador\"] * (N - K))\n",
    "    np.random.shuffle(population)\n",
    "    # Seleccionar equipo\n",
    "    team = population[:n]\n",
    "    triple_players = np.sum(team == \"Tirador\")\n",
    "    results.append(triple_players)\n",
    "\n",
    "# Creamos arrays con las listas\n",
    "results = np.array(results)\n",
    "mean_triple_players = np.mean(results)\n",
    "\n",
    "# Visualización\n",
    "plt.figure(figsize=(10, 6))\n",
    "sns.histplot(results, stat=\"probability\")\n",
    "plt.axvline(\n",
    "    mean_triple_players,\n",
    "    color=\"r\",\n",
    "    linestyle=\"--\",\n",
    "    label=f\"Media: {mean_triple_players:.2f}\",\n",
    ")\n",
    "plt.title(\"Distribución de Tiradores por Equipo\")\n",
    "plt.xlabel(\"Número de Tiradores\")\n",
    "plt.ylabel(\"Probabilidad\")\n",
    "plt.legend()\n",
    "plt.show()\n",
    "\n",
    "# Comparación con valores teóricos\n",
    "k = np.arange(0, n + 1)\n",
    "pmf_k = hypergeom.pmf(k, N, K, n)\n",
    "\n",
    "print(f\"\\nMedia teórica: {n * (K/N):.2f}\")\n",
    "print(f\"Media simulada: {mean_triple_players:.2f}\")"
   ]
  },
  {
   "cell_type": "code",
   "execution_count": null,
   "id": "22e1ada9-b3b4-4093-90ad-c926fa08c265",
   "metadata": {},
   "outputs": [],
   "source": []
  }
 ],
 "metadata": {
  "kernelspec": {
   "display_name": "Python 3 (ipykernel)",
   "language": "python",
   "name": "python3"
  },
  "language_info": {
   "codemirror_mode": {
    "name": "ipython",
    "version": 3
   },
   "file_extension": ".py",
   "mimetype": "text/x-python",
   "name": "python",
   "nbconvert_exporter": "python",
   "pygments_lexer": "ipython3",
   "version": "3.10.13"
  }
 },
 "nbformat": 4,
 "nbformat_minor": 5
}
