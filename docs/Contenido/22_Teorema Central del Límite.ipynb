{
 "cells": [
  {
   "cell_type": "markdown",
   "id": "03fac113-0462-4138-818b-994148df9a2e",
   "metadata": {},
   "source": [
    "# 22_TEOREMA CENTRAL DEL LÍMITE"
   ]
  },
  {
   "cell_type": "code",
   "execution_count": null,
   "id": "1fb107cb-d8d8-430a-ba95-2df44c54f422",
   "metadata": {},
   "outputs": [],
   "source": [
    "# Importamos las librerías\n",
    "import numpy as np\n",
    "import matplotlib.pyplot as plt\n",
    "import seaborn as sns\n",
    "\n",
    "# Generamos 10_000 datos de una distribución exponencial (no es normal)\n",
    "escala = 2\n",
    "datos = np.random.exponential(scale=escala, size=10_000)\n",
    "print(\n",
    "    f\"Se ha generado un array con {len(datos)} observaciones de una exponencial de escala {escala}\"\n",
    ")\n",
    "print(\n",
    "    f\"La media de estos datos debe ser un valor muy próximo a {escala}: media de los datos generados = {datos.mean()}.\"\n",
    ")"
   ]
  },
  {
   "cell_type": "code",
   "execution_count": null,
   "id": "d058b38b-a19b-4443-8783-c2efcce1533f",
   "metadata": {},
   "outputs": [],
   "source": [
    "def medias_muestrales(dist, numero_muestras, size_muestras):\n",
    "    # Define una lista con las medias vacía\n",
    "    medias = []\n",
    "    for _ in range(numero_muestras):\n",
    "        # Elige de la población \"dist\" muestras de tamaño \"size_muestras\"\n",
    "        muestra = np.random.choice(dist, size=size_muestras)\n",
    "        \"\"\" Calcula la meda de la muestra obtenida en cada iteración\n",
    "        y añade a la lista de medias\"\"\"\n",
    "        medias.append(np.mean(muestra))\n",
    "    return medias  # Devuelve la lista con las medias muestrales"
   ]
  },
  {
   "cell_type": "code",
   "execution_count": null,
   "id": "5f7883ff-7e98-40b8-8266-6e02a6d0cfa6",
   "metadata": {},
   "outputs": [],
   "source": [
    "numero_muestras = 1000\n",
    "tamano_muestras = [5, 30, 100]\n",
    "medias_5 = medias_muestrales(datos, numero_muestras, tamano_muestras[0])\n",
    "medias_30 = medias_muestrales(datos, numero_muestras, tamano_muestras[1])\n",
    "medias_100 = medias_muestrales(datos, numero_muestras, tamano_muestras[2])"
   ]
  },
  {
   "cell_type": "code",
   "execution_count": null,
   "id": "571a0bb0-2b0e-46ec-8d6f-ef44473b5485",
   "metadata": {},
   "outputs": [],
   "source": [
    "plt.figure(figsize=(18, 12))\n",
    "\n",
    "# Histograma de datos (matriz 2x2 de histogramas)\n",
    "plt.subplot(2, 2, 1)\n",
    "sns.histplot(datos, kde=True, color=\"blue\", bins=30)\n",
    "plt.title(f\"Datos exponencial de escala {escala}\")\n",
    "plt.ylabel(\"Frecuencia\")\n",
    "\n",
    "# Gráfico de medias muestrales de tamaño 5\n",
    "plt.subplot(2, 2, 2)\n",
    "sns.histplot(medias_5, kde=True, color=\"red\", bins=30)\n",
    "plt.title(\"Distribución de medias muestrales (n=5)\")\n",
    "plt.xlabel(\"Media muestral\")\n",
    "plt.ylabel(\"Frecuencia\")\n",
    "\n",
    "# Gráfico de medias muestrales de tamaño 30\n",
    "plt.subplot(2, 2, 3)\n",
    "sns.histplot(medias_30, kde=True, color=\"green\", bins=30)\n",
    "plt.title(\"Distribución de medias muestrales (n=30)\")\n",
    "plt.xlabel(\"Media muestral\")\n",
    "plt.ylabel(\"Frecuencia\")\n",
    "\n",
    "# Gráfico de medias muestrales de tamaño 100\n",
    "plt.subplot(2, 2, 4)\n",
    "sns.histplot(medias_100, kde=True, color=\"grey\", bins=30)\n",
    "plt.title(\"Distribución de medias muestrales (n=100)\")\n",
    "plt.xlabel(\"Media muestral\")\n",
    "plt.ylabel(\"Frecuencia\")"
   ]
  }
 ],
 "metadata": {
  "kernelspec": {
   "display_name": "Python 3 (ipykernel)",
   "language": "python",
   "name": "python3"
  },
  "language_info": {
   "codemirror_mode": {
    "name": "ipython",
    "version": 3
   },
   "file_extension": ".py",
   "mimetype": "text/x-python",
   "name": "python",
   "nbconvert_exporter": "python",
   "pygments_lexer": "ipython3",
   "version": "3.10.13"
  }
 },
 "nbformat": 4,
 "nbformat_minor": 5
}
