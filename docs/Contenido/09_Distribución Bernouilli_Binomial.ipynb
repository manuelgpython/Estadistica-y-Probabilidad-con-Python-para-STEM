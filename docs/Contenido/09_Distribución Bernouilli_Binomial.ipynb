{
 "cells": [
  {
   "cell_type": "markdown",
   "id": "02789585",
   "metadata": {},
   "source": [
    "# 9_DISTRIBUCIONES BERNOUILLI Y BINOMIAL"
   ]
  },
  {
   "cell_type": "code",
   "execution_count": null,
   "id": "ba85615f",
   "metadata": {},
   "outputs": [],
   "source": [
    "# Importamos las librerías\n",
    "import numpy as np\n",
    "import matplotlib.pyplot as plt\n",
    "from scipy.stats import binom\n",
    "\n",
    "# Parámetros de la Binomial\n",
    "n = 15  # Número de semillas plantadas\n",
    "p = 0.35  # Probabilidad de éxito (germine)\n",
    "\n",
    "# Generar los valores de la variable X\n",
    "k = np.arange(0, n + 1)\n",
    "\n",
    "# Calcularmos las probabilidades\n",
    "prob = binom.pmf(k, n, p)\n",
    "\n",
    "# Graficamos B(15,0.35)\n",
    "plt.figure(figsize=(8, 5))\n",
    "plt.bar(k, prob, color=\"green\", alpha=0.7)\n",
    "plt.title(f\"Germinación de semillas $B({n},{p})$\")\n",
    "plt.xlabel(\"Número de semillas germinadas (k)\")\n",
    "plt.ylabel(\"Probabilidad\")\n",
    "plt.show()"
   ]
  },
  {
   "cell_type": "code",
   "execution_count": null,
   "id": "28cc94d6",
   "metadata": {},
   "outputs": [],
   "source": [
    "prob_5_sucess = binom.pmf(5, 15, 0.35)\n",
    "print(f\"La probabilidad de que exactamente 5 germinen es {prob_5_sucess:.4f}\")"
   ]
  },
  {
   "cell_type": "code",
   "execution_count": null,
   "id": "14389b97",
   "metadata": {},
   "outputs": [],
   "source": [
    "prob_less_6 = binom.cdf(5, 15, 0.35)\n",
    "print(f\"La probabilidad de que germinen menos de 6 es {prob_less_6:.4f}\")"
   ]
  },
  {
   "cell_type": "code",
   "execution_count": null,
   "id": "3cc04d16",
   "metadata": {},
   "outputs": [],
   "source": [
    "# Repartimos el espacio de valores y calculamos probabilidades\n",
    "k_red = np.arange(0, 6)\n",
    "k_green = np.arange(6, 16)\n",
    "prob_less_6 = prob[k[k_red]]\n",
    "prob_more_6 = prob[k[k_green]]\n",
    "\n",
    "# Graficamos B(15,0.35)\n",
    "plt.figure(figsize=(8, 5))\n",
    "plt.bar(k_red, prob_less_6, color=\"red\", alpha=0.7, label=f\"$P[X<6]$\")\n",
    "plt.bar(k_green, prob_more_6, color=\"green\", alpha=0.7, label=f\"$P[X\\geq 6]$\")\n",
    "plt.legend()\n",
    "plt.show()"
   ]
  },
  {
   "cell_type": "code",
   "execution_count": null,
   "id": "286de61e",
   "metadata": {},
   "outputs": [],
   "source": [
    "# Simular 1000 experimentos de germinación\n",
    "experiments = np.random.binomial(n, p, size=1000)\n",
    "\n",
    "# Graficamos los resultados de la simulación\n",
    "plt.figure(figsize=(8, 5))\n",
    "plt.hist(\n",
    "    experiments,\n",
    "    bins=np.arange(-0.5, n + 1.5, 1),\n",
    "    density=True,\n",
    "    alpha=0.7,\n",
    "    color=\"blue\",\n",
    "    edgecolor=\"yellow\",\n",
    "    rwidth=0.9,\n",
    ")\n",
    "plt.title(f\"Simulación de 1000 experimentos de germinación $B({n}, {p})$\")\n",
    "plt.xlabel(\"Número de semillas germinadas (k)\")\n",
    "plt.ylabel(\"Frecuencia relativa\")\n",
    "plt.xticks(range(0, n + 1, 2))\n",
    "plt.show()"
   ]
  },
  {
   "cell_type": "code",
   "execution_count": null,
   "id": "32fbc4b9",
   "metadata": {},
   "outputs": [],
   "source": [
    "\"\"\"En la siguiente línea contaremos los resultados del experimento\n",
    "unique: valores encontrados\n",
    "counts: cuantas veces aparecen (frecuencias absolutas)\"\"\"\n",
    "\n",
    "unique, counts = np.unique(experiments, return_counts=True)\n",
    "\n",
    "# Calculamos las frecuencias relativas\n",
    "frequencies = counts / 1000\n",
    "\n",
    "# Comparar teórico vs simulación\n",
    "plt.figure(figsize=(8, 5))\n",
    "plt.bar(\n",
    "    k, prob, color=\"green\", alpha=0.6, label=\"Probabilidad teórica\", edgecolor=\"black\"\n",
    ")\n",
    "plt.scatter(unique, frequencies, color=\"red\", label=\"Frecuencia simulada\", zorder=5)\n",
    "plt.title(f\"Probabilidad teórica vs simulación $B({n},{p})$\")\n",
    "plt.xlabel(\"Número de semillas germinadas (k)\")\n",
    "plt.ylabel(\"Probabilidad/Frecuencia relativa\")\n",
    "plt.legend()\n",
    "plt.show()"
   ]
  }
 ],
 "metadata": {
  "kernelspec": {
   "display_name": "Python 3 (ipykernel)",
   "language": "python",
   "name": "python3"
  },
  "language_info": {
   "codemirror_mode": {
    "name": "ipython",
    "version": 3
   },
   "file_extension": ".py",
   "mimetype": "text/x-python",
   "name": "python",
   "nbconvert_exporter": "python",
   "pygments_lexer": "ipython3",
   "version": "3.10.13"
  }
 },
 "nbformat": 4,
 "nbformat_minor": 5
}
