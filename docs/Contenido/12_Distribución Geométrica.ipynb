{
 "cells": [
  {
   "cell_type": "markdown",
   "id": "2f19b888-c0cb-40f5-9558-e2cadeeeebf4",
   "metadata": {},
   "source": [
    "# 12_DISTRIBUCIÓN GEOMÉTRICA\n",
    "### Control de calidad"
   ]
  },
  {
   "cell_type": "code",
   "execution_count": null,
   "id": "e2e7c515-7548-4e5d-8b91-dffb809c63ac",
   "metadata": {},
   "outputs": [],
   "source": [
    "# Definimos probabilidad de éxito y número de intentos\n",
    "p = 0.8\n",
    "k = 3\n",
    "\n",
    "# Calculamos la probabilidad de 3 chips hasta el primer defectuoso\n",
    "p_3 = (1 - p) ** (k - 1) * p\n",
    "\n",
    "# Informe del resultado\n",
    "print(\n",
    "    f\"La probabilidad de seleccionar {k} chips hasta el primer defectuoso es {p_3:.4f}\"\n",
    ")"
   ]
  },
  {
   "cell_type": "markdown",
   "id": "8eb2b798-f440-4504-b4f5-e05940c2dcb7",
   "metadata": {},
   "source": [
    "2º opción: Con la función implementada en Scipy"
   ]
  },
  {
   "cell_type": "code",
   "execution_count": null,
   "id": "c84ee6ad-113c-4242-ab7d-a0c6eec96c40",
   "metadata": {},
   "outputs": [],
   "source": [
    "# Importamos las librerías\n",
    "import numpy as np\n",
    "from scipy.stats import geom\n",
    "\n",
    "# Definimos probabilidad de éxito y número de intentos\n",
    "p = 0.8\n",
    "k = 3\n",
    "\n",
    "# Calculamos la probabilidad con la función de Scipy\n",
    "p_sci_3 = geom.pmf(p=p, k=k)\n",
    "\n",
    "# Informe del resultado\n",
    "print(f\"La probabilidad de seleccionar {k} hasta el primer defectuoso es {p_sci_3:.4f}\")"
   ]
  },
  {
   "cell_type": "markdown",
   "id": "5e8811c5-ef9b-4d09-beb2-1285c70c1b02",
   "metadata": {},
   "source": [
    "### Pruebas de software"
   ]
  },
  {
   "cell_type": "code",
   "execution_count": null,
   "id": "e8e71bf7-b749-45fd-be45-5a940dc82f3c",
   "metadata": {},
   "outputs": [],
   "source": [
    "# Importamos las librerías\n",
    "import numpy as np\n",
    "import scipy.stats as stats\n",
    "import matplotlib.pyplot as plt\n",
    "import seaborn as sns\n",
    "import random\n",
    "\n",
    "# Parámetros del modelo\n",
    "p_failure = 0.05  # Éxito\n",
    "k = 4\n",
    "n_simulations = 100\n",
    "\n",
    "# Generamos la distribución y las simulaciones\n",
    "dist_geom = stats.geom(p_failure)\n",
    "simulation = dist_geom.rvs(size=n_simulations, random_state=14)  # Fijamos la semilla\n",
    "\n",
    "# Informe de medias y medianas\n",
    "print(f\"La media teórica es {1/p_failure}\")\n",
    "print(f\"La media de la simulación es {np.mean(simulation)}\")\n",
    "print()\n",
    "print(f\"La mediana teórica es {-np.log(2)/np.log(1-p_failure):.2f}\")\n",
    "print(f\"La mediana de la simulación es {np.median(simulation)}\")\n",
    "print()\n",
    "\n",
    "# Creamos figura con subplots\n",
    "fig, (ax1, ax2, ax3) = plt.subplots(1, 3, figsize=(18, 6))\n",
    "\n",
    "# Gráfico 1: Serie temporal de pruebas1\n",
    "ax1.plot(range(n_simulations), simulation, \"b-\", alpha=0.6)\n",
    "ax1.plot(\n",
    "    range(n_simulations),\n",
    "    np.ones(n_simulations) * np.mean(simulation),\n",
    "    \"r--\",\n",
    "    label=\"Media\",\n",
    ")\n",
    "ax1.fill_between(\n",
    "    range(n_simulations),\n",
    "    np.mean(simulation) - np.std(simulation),\n",
    "    np.mean(simulation) - np.std(simulation),\n",
    "    alpha=0.2,\n",
    "    color=\"red\",\n",
    ")\n",
    "ax1.set_xlabel(\"Repetición\")\n",
    "ax1.set_ylabel(\"Número de pruebas hasta fallo\")\n",
    "ax1.set_title(\"Serie temporal de pruebas\")\n",
    "ax1.legend()\n",
    "\n",
    "# Histograma\n",
    "sns.histplot(data=simulation, ax=ax2, kde=False)\n",
    "ax2.axvline(np.mean(simulation), color=\"r\", linestyle=\"--\", label=\"Media\")\n",
    "ax2.axvline(np.median(simulation), color=\"g\", linestyle=\"--\", label=\"Mediana\")\n",
    "ax2.set_xlabel(\"Número de pruebas hasta fallo\")\n",
    "ax2.set_ylabel(\"Frecuencia\")\n",
    "ax2.set_title(\"Distribución de pruebas\")\n",
    "ax2.legend()\n",
    "\n",
    "# Box plot\n",
    "ax3.boxplot(simulation, vert=False)\n",
    "ax3.set_xlabel(\"Número de pruebas hasta fallo\")\n",
    "ax3.set_title(\"Box Plot de pruebas\")\n",
    "\n",
    "plt.show()"
   ]
  }
 ],
 "metadata": {
  "kernelspec": {
   "display_name": "Python 3 (ipykernel)",
   "language": "python",
   "name": "python3"
  },
  "language_info": {
   "codemirror_mode": {
    "name": "ipython",
    "version": 3
   },
   "file_extension": ".py",
   "mimetype": "text/x-python",
   "name": "python",
   "nbconvert_exporter": "python",
   "pygments_lexer": "ipython3",
   "version": "3.10.13"
  }
 },
 "nbformat": 4,
 "nbformat_minor": 5
}
